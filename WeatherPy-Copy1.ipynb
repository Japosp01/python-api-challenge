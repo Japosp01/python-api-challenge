{
 "cells": [
  {
   "cell_type": "markdown",
   "metadata": {},
   "source": [
    "# WeatherPy\n",
    "----\n",
    "\n",
    "#### Note\n",
    "* Instructions have been included for each segment. You do not have to follow them exactly, but they are included to help you think through the steps."
   ]
  },
  {
   "cell_type": "code",
   "execution_count": 1,
   "metadata": {
    "scrolled": true
   },
   "outputs": [],
   "source": [
    "# Dependencies and Setup\n",
    "import matplotlib.pyplot as plt\n",
    "import pandas as pd\n",
    "import numpy as np\n",
    "import requests\n",
    "import time\n",
    "from scipy.stats import linregress\n",
    "\n",
    "# Import API key\n",
    "from api_keys import weather_api_key\n",
    "\n",
    "# Incorporated citipy to determine city based on latitude and longitude\n",
    "from citipy import citipy\n",
    "\n",
    "# Output File (CSV)\n",
    "#output_data_file = \"citiesjp.csv\"\n",
    "\n",
    "#output_data_file=pd.read_csv(r\"C:\\Users\\The Doctor\\Anaconda3\\envs\\PythonData\\clinicaltrial_data.csv\")\n",
    "#output_data_file\n",
    "\n",
    "# Range of latitudes and longitudes\n",
    "lat_range = (-90, 90)\n",
    "lng_range = (-180, 180)\n",
    "\n",
    "\n",
    "\n"
   ]
  },
  {
   "cell_type": "code",
   "execution_count": null,
   "metadata": {},
   "outputs": [],
   "source": [
    "# Import API key\n",
    "from api_keys import weather_api_key"
   ]
  },
  {
   "cell_type": "code",
   "execution_count": 2,
   "metadata": {},
   "outputs": [
    {
     "name": "stdout",
     "output_type": "stream",
     "text": [
      "6fc8ddf3c4a598e2516abc3c927237fe\n"
     ]
    }
   ],
   "source": [
    "print(weather_api_key)"
   ]
  },
  {
   "cell_type": "markdown",
   "metadata": {},
   "source": [
    "## Generate Cities List"
   ]
  },
  {
   "cell_type": "code",
   "execution_count": 3,
   "metadata": {},
   "outputs": [
    {
     "data": {
      "text/plain": [
       "593"
      ]
     },
     "execution_count": 3,
     "metadata": {},
     "output_type": "execute_result"
    }
   ],
   "source": [
    "# List for holding lat_lngs and cities\n",
    "lat_lngs = []\n",
    "cities = []\n",
    "\n",
    "# Create a set of random lat and lng combinations\n",
    "lats = np.random.uniform(low=-90.000, high=90.000, size=1500)\n",
    "lngs = np.random.uniform(low=-180.000, high=180.000, size=1500)\n",
    "lat_lngs = zip(lats, lngs)\n",
    "\n",
    "# Identify nearest city for each lat, lng combination\n",
    "for lat_lng in lat_lngs:\n",
    "    city = citipy.nearest_city(lat_lng[0], lat_lng[1]).city_name\n",
    "    \n",
    "    # If the city is unique, then add it to a our cities list\n",
    "    if city not in cities:\n",
    "        cities.append(city)\n",
    "\n",
    "# Print the city count to confirm sufficient count\n",
    "len(cities)"
   ]
  },
  {
   "cell_type": "markdown",
   "metadata": {},
   "source": [
    "### Perform API Calls\n",
    "* Perform a weather check on each city using a series of successive API calls.\n",
    "* Include a print log of each city as it'sbeing processed (with the city number and city name).\n"
   ]
  },
  {
   "cell_type": "code",
   "execution_count": 17,
   "metadata": {},
   "outputs": [
    {
     "name": "stdout",
     "output_type": "stream",
     "text": [
      "Look Dave, I can see you're really upset about this. I honestly think you ought to sit down calmly, take a stress pill\n",
      ":-)...:-)...:-)...:-)\n",
      "I am completely operational, and all my circuits are functioning perfectly 1 | Busselton\n",
      "http://api.openweathermap.org/data/2.5/weather?units=Imperia&APPID=6fc8ddf3c4a598e2516abc3c927237fe&q=busselton\n",
      "I am completely operational, and all my circuits are functioning perfectly 2 | Vaini\n",
      "http://api.openweathermap.org/data/2.5/weather?units=Imperia&APPID=6fc8ddf3c4a598e2516abc3c927237fe&q=vaini\n",
      "I am completely operational, and all my circuits are functioning perfectly 3 | Kahului\n",
      "http://api.openweathermap.org/data/2.5/weather?units=Imperia&APPID=6fc8ddf3c4a598e2516abc3c927237fe&q=kahului\n",
      "I am completely operational, and all my circuits are functioning perfectly 4 | Saskylakh\n",
      "http://api.openweathermap.org/data/2.5/weather?units=Imperia&APPID=6fc8ddf3c4a598e2516abc3c927237fe&q=saskylakh\n",
      "I am completely operational, and all my circuits are functioning perfectly 5 | Morehead\n",
      "http://api.openweathermap.org/data/2.5/weather?units=Imperia&APPID=6fc8ddf3c4a598e2516abc3c927237fe&q=morehead\n",
      "I am completely operational, and all my circuits are functioning perfectly 6 | Cetraro\n",
      "http://api.openweathermap.org/data/2.5/weather?units=Imperia&APPID=6fc8ddf3c4a598e2516abc3c927237fe&q=cetraro\n",
      "I am completely operational, and all my circuits are functioning perfectly 7 | Arraial do Cabo\n",
      "http://api.openweathermap.org/data/2.5/weather?units=Imperia&APPID=6fc8ddf3c4a598e2516abc3c927237fe&q=arraial do cabo\n",
      "I am completely operational, and all my circuits are functioning perfectly 8 | Jamestown\n",
      "http://api.openweathermap.org/data/2.5/weather?units=Imperia&APPID=6fc8ddf3c4a598e2516abc3c927237fe&q=jamestown\n",
      "I am completely operational, and all my circuits are functioning perfectly 9 | Ancud\n",
      "http://api.openweathermap.org/data/2.5/weather?units=Imperia&APPID=6fc8ddf3c4a598e2516abc3c927237fe&q=ancud\n",
      "I am completely operational, and all my circuits are functioning perfectly 10 | Rikitea\n",
      "http://api.openweathermap.org/data/2.5/weather?units=Imperia&APPID=6fc8ddf3c4a598e2516abc3c927237fe&q=rikitea\n",
      "I am completely operational, and all my circuits are functioning perfectly 11 | Ushuaia\n",
      "http://api.openweathermap.org/data/2.5/weather?units=Imperia&APPID=6fc8ddf3c4a598e2516abc3c927237fe&q=ushuaia\n",
      "I am completely operational, and all my circuits are functioning perfectly 12 | Saint-Philippe\n",
      "http://api.openweathermap.org/data/2.5/weather?units=Imperia&APPID=6fc8ddf3c4a598e2516abc3c927237fe&q=saint-philippe\n",
      "I am completely operational, and all my circuits are functioning perfectly 13 | Bilozerka\n",
      "http://api.openweathermap.org/data/2.5/weather?units=Imperia&APPID=6fc8ddf3c4a598e2516abc3c927237fe&q=bilozerka\n",
      "I am completely operational, and all my circuits are functioning perfectly 14 | Port Alfred\n",
      "http://api.openweathermap.org/data/2.5/weather?units=Imperia&APPID=6fc8ddf3c4a598e2516abc3c927237fe&q=port alfred\n",
      "I am completely operational, and all my circuits are functioning perfectly 15 | Avarua\n",
      "http://api.openweathermap.org/data/2.5/weather?units=Imperia&APPID=6fc8ddf3c4a598e2516abc3c927237fe&q=avarua\n",
      "I'm sorry Dave, I can't do that...\n",
      "I am completely operational, and all my circuits are functioning perfectly 16 | Fairbanks\n",
      "http://api.openweathermap.org/data/2.5/weather?units=Imperia&APPID=6fc8ddf3c4a598e2516abc3c927237fe&q=fairbanks\n",
      "I am completely operational, and all my circuits are functioning perfectly 17 | Port-Gentil\n",
      "http://api.openweathermap.org/data/2.5/weather?units=Imperia&APPID=6fc8ddf3c4a598e2516abc3c927237fe&q=port-gentil\n",
      "I am completely operational, and all my circuits are functioning perfectly 18 | Pevek\n",
      "http://api.openweathermap.org/data/2.5/weather?units=Imperia&APPID=6fc8ddf3c4a598e2516abc3c927237fe&q=pevek\n",
      "I'm sorry Dave, I can't do that...\n",
      "I am completely operational, and all my circuits are functioning perfectly 19 | Tuatapere\n",
      "http://api.openweathermap.org/data/2.5/weather?units=Imperia&APPID=6fc8ddf3c4a598e2516abc3c927237fe&q=tuatapere\n",
      "I am completely operational, and all my circuits are functioning perfectly 20 | Hobart\n",
      "http://api.openweathermap.org/data/2.5/weather?units=Imperia&APPID=6fc8ddf3c4a598e2516abc3c927237fe&q=hobart\n",
      "I am completely operational, and all my circuits are functioning perfectly 21 | Bilma\n",
      "http://api.openweathermap.org/data/2.5/weather?units=Imperia&APPID=6fc8ddf3c4a598e2516abc3c927237fe&q=bilma\n",
      "I am completely operational, and all my circuits are functioning perfectly 22 | Nanortalik\n",
      "http://api.openweathermap.org/data/2.5/weather?units=Imperia&APPID=6fc8ddf3c4a598e2516abc3c927237fe&q=nanortalik\n",
      "I am completely operational, and all my circuits are functioning perfectly 23 | Kapaa\n",
      "http://api.openweathermap.org/data/2.5/weather?units=Imperia&APPID=6fc8ddf3c4a598e2516abc3c927237fe&q=kapaa\n",
      "I am completely operational, and all my circuits are functioning perfectly 24 | Bernalillo\n",
      "http://api.openweathermap.org/data/2.5/weather?units=Imperia&APPID=6fc8ddf3c4a598e2516abc3c927237fe&q=bernalillo\n",
      "I am completely operational, and all my circuits are functioning perfectly 25 | Karratha\n",
      "http://api.openweathermap.org/data/2.5/weather?units=Imperia&APPID=6fc8ddf3c4a598e2516abc3c927237fe&q=karratha\n",
      "I'm sorry Dave, I can't do that...\n",
      "I am completely operational, and all my circuits are functioning perfectly 26 | Narsaq\n",
      "http://api.openweathermap.org/data/2.5/weather?units=Imperia&APPID=6fc8ddf3c4a598e2516abc3c927237fe&q=narsaq\n",
      "I am completely operational, and all my circuits are functioning perfectly 27 | Yellowknife\n",
      "http://api.openweathermap.org/data/2.5/weather?units=Imperia&APPID=6fc8ddf3c4a598e2516abc3c927237fe&q=yellowknife\n",
      "I am completely operational, and all my circuits are functioning perfectly 28 | Mapiri\n",
      "http://api.openweathermap.org/data/2.5/weather?units=Imperia&APPID=6fc8ddf3c4a598e2516abc3c927237fe&q=mapiri\n",
      "I am completely operational, and all my circuits are functioning perfectly 29 | Lebu\n",
      "http://api.openweathermap.org/data/2.5/weather?units=Imperia&APPID=6fc8ddf3c4a598e2516abc3c927237fe&q=lebu\n",
      "I am completely operational, and all my circuits are functioning perfectly 30 | Atuona\n",
      "http://api.openweathermap.org/data/2.5/weather?units=Imperia&APPID=6fc8ddf3c4a598e2516abc3c927237fe&q=atuona\n",
      "I'm sorry Dave, I can't do that...\n",
      "I am completely operational, and all my circuits are functioning perfectly 31 | Saint George\n",
      "http://api.openweathermap.org/data/2.5/weather?units=Imperia&APPID=6fc8ddf3c4a598e2516abc3c927237fe&q=saint george\n",
      "I am completely operational, and all my circuits are functioning perfectly 32 | Nacala\n",
      "http://api.openweathermap.org/data/2.5/weather?units=Imperia&APPID=6fc8ddf3c4a598e2516abc3c927237fe&q=nacala\n",
      "I am completely operational, and all my circuits are functioning perfectly 33 | Bredasdorp\n",
      "http://api.openweathermap.org/data/2.5/weather?units=Imperia&APPID=6fc8ddf3c4a598e2516abc3c927237fe&q=bredasdorp\n",
      "I am completely operational, and all my circuits are functioning perfectly 34 | Andra\n",
      "http://api.openweathermap.org/data/2.5/weather?units=Imperia&APPID=6fc8ddf3c4a598e2516abc3c927237fe&q=andra\n",
      "I am completely operational, and all my circuits are functioning perfectly 35 | Kenai\n",
      "http://api.openweathermap.org/data/2.5/weather?units=Imperia&APPID=6fc8ddf3c4a598e2516abc3c927237fe&q=kenai\n",
      "I am completely operational, and all my circuits are functioning perfectly 36 | Hambantota\n",
      "http://api.openweathermap.org/data/2.5/weather?units=Imperia&APPID=6fc8ddf3c4a598e2516abc3c927237fe&q=hambantota\n",
      "I'm sorry Dave, I can't do that...\n",
      "I am completely operational, and all my circuits are functioning perfectly 37 | Kanlagay\n",
      "http://api.openweathermap.org/data/2.5/weather?units=Imperia&APPID=6fc8ddf3c4a598e2516abc3c927237fe&q=kanlagay\n",
      "I am completely operational, and all my circuits are functioning perfectly 38 | Plettenberg Bay\n",
      "http://api.openweathermap.org/data/2.5/weather?units=Imperia&APPID=6fc8ddf3c4a598e2516abc3c927237fe&q=plettenberg bay\n",
      "I am completely operational, and all my circuits are functioning perfectly 39 | Kirillov\n",
      "http://api.openweathermap.org/data/2.5/weather?units=Imperia&APPID=6fc8ddf3c4a598e2516abc3c927237fe&q=kirillov\n",
      "I am completely operational, and all my circuits are functioning perfectly 40 | Seoul\n",
      "http://api.openweathermap.org/data/2.5/weather?units=Imperia&APPID=6fc8ddf3c4a598e2516abc3c927237fe&q=seoul\n"
     ]
    },
    {
     "name": "stdout",
     "output_type": "stream",
     "text": [
      "I am completely operational, and all my circuits are functioning perfectly 41 | Vao\n",
      "http://api.openweathermap.org/data/2.5/weather?units=Imperia&APPID=6fc8ddf3c4a598e2516abc3c927237fe&q=vao\n",
      "I'm sorry Dave, I can't do that...\n",
      "I am completely operational, and all my circuits are functioning perfectly 42 | Maniitsoq\n",
      "http://api.openweathermap.org/data/2.5/weather?units=Imperia&APPID=6fc8ddf3c4a598e2516abc3c927237fe&q=maniitsoq\n",
      "I am completely operational, and all my circuits are functioning perfectly 43 | Isangel\n",
      "http://api.openweathermap.org/data/2.5/weather?units=Imperia&APPID=6fc8ddf3c4a598e2516abc3c927237fe&q=isangel\n",
      "I am completely operational, and all my circuits are functioning perfectly 44 | Honiara\n",
      "http://api.openweathermap.org/data/2.5/weather?units=Imperia&APPID=6fc8ddf3c4a598e2516abc3c927237fe&q=honiara\n",
      "I'm sorry Dave, I can't do that...\n",
      "I am completely operational, and all my circuits are functioning perfectly 45 | Obera\n",
      "http://api.openweathermap.org/data/2.5/weather?units=Imperia&APPID=6fc8ddf3c4a598e2516abc3c927237fe&q=obera\n",
      "I am completely operational, and all my circuits are functioning perfectly 46 | Hilo\n",
      "http://api.openweathermap.org/data/2.5/weather?units=Imperia&APPID=6fc8ddf3c4a598e2516abc3c927237fe&q=hilo\n",
      "I am completely operational, and all my circuits are functioning perfectly 47 | Luderitz\n",
      "http://api.openweathermap.org/data/2.5/weather?units=Imperia&APPID=6fc8ddf3c4a598e2516abc3c927237fe&q=luderitz\n",
      "I am completely operational, and all my circuits are functioning perfectly 48 | Maine-Soroa\n",
      "http://api.openweathermap.org/data/2.5/weather?units=Imperia&APPID=6fc8ddf3c4a598e2516abc3c927237fe&q=maine-soroa\n",
      "I am completely operational, and all my circuits are functioning perfectly 49 | Arlit\n",
      "http://api.openweathermap.org/data/2.5/weather?units=Imperia&APPID=6fc8ddf3c4a598e2516abc3c927237fe&q=arlit\n",
      "I am completely operational, and all my circuits are functioning perfectly 50 | Zhigansk\n",
      "http://api.openweathermap.org/data/2.5/weather?units=Imperia&APPID=6fc8ddf3c4a598e2516abc3c927237fe&q=zhigansk\n",
      "I am completely operational, and all my circuits are functioning perfectly 51 | Hobyo\n",
      "http://api.openweathermap.org/data/2.5/weather?units=Imperia&APPID=6fc8ddf3c4a598e2516abc3c927237fe&q=hobyo\n",
      "I am completely operational, and all my circuits are functioning perfectly 52 | Traunstein\n",
      "http://api.openweathermap.org/data/2.5/weather?units=Imperia&APPID=6fc8ddf3c4a598e2516abc3c927237fe&q=traunstein\n",
      "I am completely operational, and all my circuits are functioning perfectly 53 | Kapuskasing\n",
      "http://api.openweathermap.org/data/2.5/weather?units=Imperia&APPID=6fc8ddf3c4a598e2516abc3c927237fe&q=kapuskasing\n",
      "I am completely operational, and all my circuits are functioning perfectly 54 | Stromness\n",
      "http://api.openweathermap.org/data/2.5/weather?units=Imperia&APPID=6fc8ddf3c4a598e2516abc3c927237fe&q=stromness\n",
      "I am completely operational, and all my circuits are functioning perfectly 55 | Contamana\n",
      "http://api.openweathermap.org/data/2.5/weather?units=Imperia&APPID=6fc8ddf3c4a598e2516abc3c927237fe&q=contamana\n",
      "I am completely operational, and all my circuits are functioning perfectly 56 | Tuktoyaktuk\n",
      "http://api.openweathermap.org/data/2.5/weather?units=Imperia&APPID=6fc8ddf3c4a598e2516abc3c927237fe&q=tuktoyaktuk\n",
      "I am completely operational, and all my circuits are functioning perfectly 57 | Gillette\n",
      "http://api.openweathermap.org/data/2.5/weather?units=Imperia&APPID=6fc8ddf3c4a598e2516abc3c927237fe&q=gillette\n",
      "I am completely operational, and all my circuits are functioning perfectly 58 | La Ronge\n",
      "http://api.openweathermap.org/data/2.5/weather?units=Imperia&APPID=6fc8ddf3c4a598e2516abc3c927237fe&q=la ronge\n",
      "I am completely operational, and all my circuits are functioning perfectly 59 | Valdivia\n",
      "http://api.openweathermap.org/data/2.5/weather?units=Imperia&APPID=6fc8ddf3c4a598e2516abc3c927237fe&q=valdivia\n",
      "I am completely operational, and all my circuits are functioning perfectly 60 | San Cristobal\n",
      "http://api.openweathermap.org/data/2.5/weather?units=Imperia&APPID=6fc8ddf3c4a598e2516abc3c927237fe&q=san cristobal\n",
      "I am completely operational, and all my circuits are functioning perfectly 61 | San Patricio\n",
      "http://api.openweathermap.org/data/2.5/weather?units=Imperia&APPID=6fc8ddf3c4a598e2516abc3c927237fe&q=san patricio\n",
      "I am completely operational, and all my circuits are functioning perfectly 62 | Torbay\n",
      "http://api.openweathermap.org/data/2.5/weather?units=Imperia&APPID=6fc8ddf3c4a598e2516abc3c927237fe&q=torbay\n",
      "I am completely operational, and all my circuits are functioning perfectly 63 | Sherlovaya Gora\n",
      "http://api.openweathermap.org/data/2.5/weather?units=Imperia&APPID=6fc8ddf3c4a598e2516abc3c927237fe&q=sherlovaya gora\n",
      "I am completely operational, and all my circuits are functioning perfectly 64 | Souillac\n",
      "http://api.openweathermap.org/data/2.5/weather?units=Imperia&APPID=6fc8ddf3c4a598e2516abc3c927237fe&q=souillac\n",
      "I am completely operational, and all my circuits are functioning perfectly 65 | Normandin\n",
      "http://api.openweathermap.org/data/2.5/weather?units=Imperia&APPID=6fc8ddf3c4a598e2516abc3c927237fe&q=normandin\n",
      "I am completely operational, and all my circuits are functioning perfectly 66 | Xuanwu\n",
      "http://api.openweathermap.org/data/2.5/weather?units=Imperia&APPID=6fc8ddf3c4a598e2516abc3c927237fe&q=xuanwu\n",
      "I am completely operational, and all my circuits are functioning perfectly 67 | Borda da Mata\n",
      "http://api.openweathermap.org/data/2.5/weather?units=Imperia&APPID=6fc8ddf3c4a598e2516abc3c927237fe&q=borda da mata\n",
      "I'm sorry Dave, I can't do that...\n",
      "I am completely operational, and all my circuits are functioning perfectly 68 | Thompson\n",
      "http://api.openweathermap.org/data/2.5/weather?units=Imperia&APPID=6fc8ddf3c4a598e2516abc3c927237fe&q=thompson\n",
      "I am completely operational, and all my circuits are functioning perfectly 69 | El Alto\n",
      "http://api.openweathermap.org/data/2.5/weather?units=Imperia&APPID=6fc8ddf3c4a598e2516abc3c927237fe&q=el alto\n",
      "I am completely operational, and all my circuits are functioning perfectly 70 | Colares\n",
      "http://api.openweathermap.org/data/2.5/weather?units=Imperia&APPID=6fc8ddf3c4a598e2516abc3c927237fe&q=colares\n",
      "I am completely operational, and all my circuits are functioning perfectly 71 | East London\n",
      "http://api.openweathermap.org/data/2.5/weather?units=Imperia&APPID=6fc8ddf3c4a598e2516abc3c927237fe&q=east london\n",
      "I am completely operational, and all my circuits are functioning perfectly 72 | Kajaani\n",
      "http://api.openweathermap.org/data/2.5/weather?units=Imperia&APPID=6fc8ddf3c4a598e2516abc3c927237fe&q=kajaani\n",
      "I am completely operational, and all my circuits are functioning perfectly 73 | Klaksvik\n",
      "http://api.openweathermap.org/data/2.5/weather?units=Imperia&APPID=6fc8ddf3c4a598e2516abc3c927237fe&q=klaksvik\n",
      "I'm sorry Dave, I can't do that...\n",
      "I am completely operational, and all my circuits are functioning perfectly 74 | Port Lincoln\n",
      "http://api.openweathermap.org/data/2.5/weather?units=Imperia&APPID=6fc8ddf3c4a598e2516abc3c927237fe&q=port lincoln\n",
      "I am completely operational, and all my circuits are functioning perfectly 75 | Lasa\n",
      "http://api.openweathermap.org/data/2.5/weather?units=Imperia&APPID=6fc8ddf3c4a598e2516abc3c927237fe&q=lasa\n",
      "I am completely operational, and all my circuits are functioning perfectly 76 | Kavieng\n",
      "http://api.openweathermap.org/data/2.5/weather?units=Imperia&APPID=6fc8ddf3c4a598e2516abc3c927237fe&q=kavieng\n",
      "I am completely operational, and all my circuits are functioning perfectly 77 | Duvan\n",
      "http://api.openweathermap.org/data/2.5/weather?units=Imperia&APPID=6fc8ddf3c4a598e2516abc3c927237fe&q=duvan\n",
      "I am completely operational, and all my circuits are functioning perfectly 78 | Bethel\n",
      "http://api.openweathermap.org/data/2.5/weather?units=Imperia&APPID=6fc8ddf3c4a598e2516abc3c927237fe&q=bethel\n",
      "I am completely operational, and all my circuits are functioning perfectly 79 | Alta Floresta\n",
      "http://api.openweathermap.org/data/2.5/weather?units=Imperia&APPID=6fc8ddf3c4a598e2516abc3c927237fe&q=alta floresta\n",
      "I am completely operational, and all my circuits are functioning perfectly 80 | Khairabad\n",
      "http://api.openweathermap.org/data/2.5/weather?units=Imperia&APPID=6fc8ddf3c4a598e2516abc3c927237fe&q=khairabad\n",
      "I'm sorry Dave, I can't do that...\n",
      "I am completely operational, and all my circuits are functioning perfectly 81 | Haines Junction\n",
      "http://api.openweathermap.org/data/2.5/weather?units=Imperia&APPID=6fc8ddf3c4a598e2516abc3c927237fe&q=haines junction\n"
     ]
    },
    {
     "name": "stdout",
     "output_type": "stream",
     "text": [
      "I am completely operational, and all my circuits are functioning perfectly 82 | Laguna Verde\n",
      "http://api.openweathermap.org/data/2.5/weather?units=Imperia&APPID=6fc8ddf3c4a598e2516abc3c927237fe&q=laguna verde\n",
      "I am completely operational, and all my circuits are functioning perfectly 83 | Liwale\n",
      "http://api.openweathermap.org/data/2.5/weather?units=Imperia&APPID=6fc8ddf3c4a598e2516abc3c927237fe&q=liwale\n",
      "I am completely operational, and all my circuits are functioning perfectly 84 | Keningau\n",
      "http://api.openweathermap.org/data/2.5/weather?units=Imperia&APPID=6fc8ddf3c4a598e2516abc3c927237fe&q=keningau\n",
      "I am completely operational, and all my circuits are functioning perfectly 85 | Namibe\n",
      "http://api.openweathermap.org/data/2.5/weather?units=Imperia&APPID=6fc8ddf3c4a598e2516abc3c927237fe&q=namibe\n",
      "I am completely operational, and all my circuits are functioning perfectly 86 | Madison\n",
      "http://api.openweathermap.org/data/2.5/weather?units=Imperia&APPID=6fc8ddf3c4a598e2516abc3c927237fe&q=madison\n",
      "I am completely operational, and all my circuits are functioning perfectly 87 | Hamilton\n",
      "http://api.openweathermap.org/data/2.5/weather?units=Imperia&APPID=6fc8ddf3c4a598e2516abc3c927237fe&q=hamilton\n",
      "I am completely operational, and all my circuits are functioning perfectly 88 | Kalmunai\n",
      "http://api.openweathermap.org/data/2.5/weather?units=Imperia&APPID=6fc8ddf3c4a598e2516abc3c927237fe&q=kalmunai\n",
      "I am completely operational, and all my circuits are functioning perfectly 89 | Jesup\n",
      "http://api.openweathermap.org/data/2.5/weather?units=Imperia&APPID=6fc8ddf3c4a598e2516abc3c927237fe&q=jesup\n",
      "I am completely operational, and all my circuits are functioning perfectly 90 | Eureka\n",
      "http://api.openweathermap.org/data/2.5/weather?units=Imperia&APPID=6fc8ddf3c4a598e2516abc3c927237fe&q=eureka\n",
      "I am completely operational, and all my circuits are functioning perfectly 91 | Zhuhai\n",
      "http://api.openweathermap.org/data/2.5/weather?units=Imperia&APPID=6fc8ddf3c4a598e2516abc3c927237fe&q=zhuhai\n",
      "I am completely operational, and all my circuits are functioning perfectly 92 | Batticaloa\n",
      "http://api.openweathermap.org/data/2.5/weather?units=Imperia&APPID=6fc8ddf3c4a598e2516abc3c927237fe&q=batticaloa\n",
      "I am completely operational, and all my circuits are functioning perfectly 93 | Maxixe\n",
      "http://api.openweathermap.org/data/2.5/weather?units=Imperia&APPID=6fc8ddf3c4a598e2516abc3c927237fe&q=maxixe\n",
      "I'm sorry Dave, I can't do that...\n",
      "I am completely operational, and all my circuits are functioning perfectly 94 | Anadyr\n",
      "http://api.openweathermap.org/data/2.5/weather?units=Imperia&APPID=6fc8ddf3c4a598e2516abc3c927237fe&q=anadyr\n",
      "I am completely operational, and all my circuits are functioning perfectly 95 | Mar del Plata\n",
      "http://api.openweathermap.org/data/2.5/weather?units=Imperia&APPID=6fc8ddf3c4a598e2516abc3c927237fe&q=mar del plata\n",
      "I am completely operational, and all my circuits are functioning perfectly 96 | Vardo\n",
      "http://api.openweathermap.org/data/2.5/weather?units=Imperia&APPID=6fc8ddf3c4a598e2516abc3c927237fe&q=vardo\n",
      "I am completely operational, and all my circuits are functioning perfectly 97 | Ulladulla\n",
      "http://api.openweathermap.org/data/2.5/weather?units=Imperia&APPID=6fc8ddf3c4a598e2516abc3c927237fe&q=ulladulla\n",
      "I am completely operational, and all my circuits are functioning perfectly 98 | Ambon\n",
      "http://api.openweathermap.org/data/2.5/weather?units=Imperia&APPID=6fc8ddf3c4a598e2516abc3c927237fe&q=ambon\n",
      "I am completely operational, and all my circuits are functioning perfectly 99 | Nome\n",
      "http://api.openweathermap.org/data/2.5/weather?units=Imperia&APPID=6fc8ddf3c4a598e2516abc3c927237fe&q=nome\n",
      "I'm sorry Dave, I can't do that...\n",
      "I am completely operational, and all my circuits are functioning perfectly 100 | Peqin\n",
      "http://api.openweathermap.org/data/2.5/weather?units=Imperia&APPID=6fc8ddf3c4a598e2516abc3c927237fe&q=peqin\n",
      "I am completely operational, and all my circuits are functioning perfectly 101 | Chateaubelair\n",
      "http://api.openweathermap.org/data/2.5/weather?units=Imperia&APPID=6fc8ddf3c4a598e2516abc3c927237fe&q=chateaubelair\n",
      "I am completely operational, and all my circuits are functioning perfectly 102 | Sokolovyy\n",
      "http://api.openweathermap.org/data/2.5/weather?units=Imperia&APPID=6fc8ddf3c4a598e2516abc3c927237fe&q=sokolovyy\n",
      "I am completely operational, and all my circuits are functioning perfectly 103 | Margate\n",
      "http://api.openweathermap.org/data/2.5/weather?units=Imperia&APPID=6fc8ddf3c4a598e2516abc3c927237fe&q=margate\n",
      "I am completely operational, and all my circuits are functioning perfectly 104 | Price\n",
      "http://api.openweathermap.org/data/2.5/weather?units=Imperia&APPID=6fc8ddf3c4a598e2516abc3c927237fe&q=price\n",
      "I am completely operational, and all my circuits are functioning perfectly 105 | Rocky Mountain House\n",
      "http://api.openweathermap.org/data/2.5/weather?units=Imperia&APPID=6fc8ddf3c4a598e2516abc3c927237fe&q=rocky mountain house\n",
      "I am completely operational, and all my circuits are functioning perfectly 106 | Big Spring\n",
      "http://api.openweathermap.org/data/2.5/weather?units=Imperia&APPID=6fc8ddf3c4a598e2516abc3c927237fe&q=big spring\n",
      "I'm sorry Dave, I can't do that...\n",
      "I am completely operational, and all my circuits are functioning perfectly 107 | Guerrero Negro\n",
      "http://api.openweathermap.org/data/2.5/weather?units=Imperia&APPID=6fc8ddf3c4a598e2516abc3c927237fe&q=guerrero negro\n",
      "I am completely operational, and all my circuits are functioning perfectly 108 | Ginir\n",
      "http://api.openweathermap.org/data/2.5/weather?units=Imperia&APPID=6fc8ddf3c4a598e2516abc3c927237fe&q=ginir\n",
      "I am completely operational, and all my circuits are functioning perfectly 109 | Svetlogorsk\n",
      "http://api.openweathermap.org/data/2.5/weather?units=Imperia&APPID=6fc8ddf3c4a598e2516abc3c927237fe&q=svetlogorsk\n",
      "I am completely operational, and all my circuits are functioning perfectly 110 | Linxia\n",
      "http://api.openweathermap.org/data/2.5/weather?units=Imperia&APPID=6fc8ddf3c4a598e2516abc3c927237fe&q=linxia\n",
      "I am completely operational, and all my circuits are functioning perfectly 111 | Lulea\n",
      "http://api.openweathermap.org/data/2.5/weather?units=Imperia&APPID=6fc8ddf3c4a598e2516abc3c927237fe&q=lulea\n",
      "I am completely operational, and all my circuits are functioning perfectly 112 | Stanovoye\n",
      "http://api.openweathermap.org/data/2.5/weather?units=Imperia&APPID=6fc8ddf3c4a598e2516abc3c927237fe&q=stanovoye\n",
      "I am completely operational, and all my circuits are functioning perfectly 113 | Ikalamavony\n",
      "http://api.openweathermap.org/data/2.5/weather?units=Imperia&APPID=6fc8ddf3c4a598e2516abc3c927237fe&q=ikalamavony\n",
      "I am completely operational, and all my circuits are functioning perfectly 114 | Kruisfontein\n",
      "http://api.openweathermap.org/data/2.5/weather?units=Imperia&APPID=6fc8ddf3c4a598e2516abc3c927237fe&q=kruisfontein\n",
      "I am completely operational, and all my circuits are functioning perfectly 115 | Cairns\n",
      "http://api.openweathermap.org/data/2.5/weather?units=Imperia&APPID=6fc8ddf3c4a598e2516abc3c927237fe&q=cairns\n",
      "I am completely operational, and all my circuits are functioning perfectly 116 | Cidreira\n",
      "http://api.openweathermap.org/data/2.5/weather?units=Imperia&APPID=6fc8ddf3c4a598e2516abc3c927237fe&q=cidreira\n",
      "I am completely operational, and all my circuits are functioning perfectly 117 | Sarkikaraagac\n",
      "http://api.openweathermap.org/data/2.5/weather?units=Imperia&APPID=6fc8ddf3c4a598e2516abc3c927237fe&q=sarkikaraagac\n",
      "I am completely operational, and all my circuits are functioning perfectly 118 | Chokurdakh\n",
      "http://api.openweathermap.org/data/2.5/weather?units=Imperia&APPID=6fc8ddf3c4a598e2516abc3c927237fe&q=chokurdakh\n",
      "I am completely operational, and all my circuits are functioning perfectly 119 | Tiksi\n",
      "http://api.openweathermap.org/data/2.5/weather?units=Imperia&APPID=6fc8ddf3c4a598e2516abc3c927237fe&q=tiksi\n",
      "I am completely operational, and all my circuits are functioning perfectly 120 | Hanzhong\n",
      "http://api.openweathermap.org/data/2.5/weather?units=Imperia&APPID=6fc8ddf3c4a598e2516abc3c927237fe&q=hanzhong\n",
      "I am completely operational, and all my circuits are functioning perfectly 121 | Ostrovnoy\n",
      "http://api.openweathermap.org/data/2.5/weather?units=Imperia&APPID=6fc8ddf3c4a598e2516abc3c927237fe&q=ostrovnoy\n",
      "I am completely operational, and all my circuits are functioning perfectly 122 | Bara\n",
      "http://api.openweathermap.org/data/2.5/weather?units=Imperia&APPID=6fc8ddf3c4a598e2516abc3c927237fe&q=bara\n"
     ]
    },
    {
     "name": "stdout",
     "output_type": "stream",
     "text": [
      "I'm sorry Dave, I can't do that...\n",
      "I am completely operational, and all my circuits are functioning perfectly 123 | Odessa\n",
      "http://api.openweathermap.org/data/2.5/weather?units=Imperia&APPID=6fc8ddf3c4a598e2516abc3c927237fe&q=odessa\n",
      "I am completely operational, and all my circuits are functioning perfectly 124 | Bambous Virieux\n",
      "http://api.openweathermap.org/data/2.5/weather?units=Imperia&APPID=6fc8ddf3c4a598e2516abc3c927237fe&q=bambous virieux\n",
      "I am completely operational, and all my circuits are functioning perfectly 125 | Almazar\n",
      "http://api.openweathermap.org/data/2.5/weather?units=Imperia&APPID=6fc8ddf3c4a598e2516abc3c927237fe&q=almazar\n",
      "I am completely operational, and all my circuits are functioning perfectly 126 | Sumbe\n",
      "http://api.openweathermap.org/data/2.5/weather?units=Imperia&APPID=6fc8ddf3c4a598e2516abc3c927237fe&q=sumbe\n",
      "I am completely operational, and all my circuits are functioning perfectly 127 | Rio Grande\n",
      "http://api.openweathermap.org/data/2.5/weather?units=Imperia&APPID=6fc8ddf3c4a598e2516abc3c927237fe&q=rio grande\n",
      "I'm sorry Dave, I can't do that...\n",
      "I am completely operational, and all my circuits are functioning perfectly 128 | Teguldet\n",
      "http://api.openweathermap.org/data/2.5/weather?units=Imperia&APPID=6fc8ddf3c4a598e2516abc3c927237fe&q=teguldet\n",
      "I am completely operational, and all my circuits are functioning perfectly 129 | Poum\n",
      "http://api.openweathermap.org/data/2.5/weather?units=Imperia&APPID=6fc8ddf3c4a598e2516abc3c927237fe&q=poum\n",
      "I am completely operational, and all my circuits are functioning perfectly 130 | Beyneu\n",
      "http://api.openweathermap.org/data/2.5/weather?units=Imperia&APPID=6fc8ddf3c4a598e2516abc3c927237fe&q=beyneu\n",
      "I am completely operational, and all my circuits are functioning perfectly 131 | Brae\n",
      "http://api.openweathermap.org/data/2.5/weather?units=Imperia&APPID=6fc8ddf3c4a598e2516abc3c927237fe&q=brae\n",
      "I am completely operational, and all my circuits are functioning perfectly 132 | Rawson\n",
      "http://api.openweathermap.org/data/2.5/weather?units=Imperia&APPID=6fc8ddf3c4a598e2516abc3c927237fe&q=rawson\n",
      "I am completely operational, and all my circuits are functioning perfectly 133 | Constantine\n",
      "http://api.openweathermap.org/data/2.5/weather?units=Imperia&APPID=6fc8ddf3c4a598e2516abc3c927237fe&q=constantine\n",
      "I am completely operational, and all my circuits are functioning perfectly 134 | Yerbogachen\n",
      "http://api.openweathermap.org/data/2.5/weather?units=Imperia&APPID=6fc8ddf3c4a598e2516abc3c927237fe&q=yerbogachen\n",
      "I am completely operational, and all my circuits are functioning perfectly 135 | Lorengau\n",
      "http://api.openweathermap.org/data/2.5/weather?units=Imperia&APPID=6fc8ddf3c4a598e2516abc3c927237fe&q=lorengau\n",
      "I am completely operational, and all my circuits are functioning perfectly 136 | Fortuna\n",
      "http://api.openweathermap.org/data/2.5/weather?units=Imperia&APPID=6fc8ddf3c4a598e2516abc3c927237fe&q=fortuna\n",
      "I am completely operational, and all my circuits are functioning perfectly 137 | Arawa\n",
      "http://api.openweathermap.org/data/2.5/weather?units=Imperia&APPID=6fc8ddf3c4a598e2516abc3c927237fe&q=arawa\n",
      "I am completely operational, and all my circuits are functioning perfectly 138 | Prado\n",
      "http://api.openweathermap.org/data/2.5/weather?units=Imperia&APPID=6fc8ddf3c4a598e2516abc3c927237fe&q=prado\n",
      "I am completely operational, and all my circuits are functioning perfectly 139 | Mabaruma\n",
      "http://api.openweathermap.org/data/2.5/weather?units=Imperia&APPID=6fc8ddf3c4a598e2516abc3c927237fe&q=mabaruma\n",
      "I am completely operational, and all my circuits are functioning perfectly 140 | Santander\n",
      "http://api.openweathermap.org/data/2.5/weather?units=Imperia&APPID=6fc8ddf3c4a598e2516abc3c927237fe&q=santander\n",
      "I am completely operational, and all my circuits are functioning perfectly 141 | Port Macquarie\n",
      "http://api.openweathermap.org/data/2.5/weather?units=Imperia&APPID=6fc8ddf3c4a598e2516abc3c927237fe&q=port macquarie\n",
      "I'm sorry Dave, I can't do that...\n",
      "I am completely operational, and all my circuits are functioning perfectly 142 | Paamiut\n",
      "http://api.openweathermap.org/data/2.5/weather?units=Imperia&APPID=6fc8ddf3c4a598e2516abc3c927237fe&q=paamiut\n",
      "I am completely operational, and all my circuits are functioning perfectly 143 | Antalaha\n",
      "http://api.openweathermap.org/data/2.5/weather?units=Imperia&APPID=6fc8ddf3c4a598e2516abc3c927237fe&q=antalaha\n",
      "I am completely operational, and all my circuits are functioning perfectly 144 | Kyzyl-Suu\n",
      "http://api.openweathermap.org/data/2.5/weather?units=Imperia&APPID=6fc8ddf3c4a598e2516abc3c927237fe&q=kyzyl-suu\n",
      "I am completely operational, and all my circuits are functioning perfectly 145 | Hovd\n",
      "http://api.openweathermap.org/data/2.5/weather?units=Imperia&APPID=6fc8ddf3c4a598e2516abc3c927237fe&q=hovd\n",
      "I am completely operational, and all my circuits are functioning perfectly 146 | Beringovskiy\n",
      "http://api.openweathermap.org/data/2.5/weather?units=Imperia&APPID=6fc8ddf3c4a598e2516abc3c927237fe&q=beringovskiy\n",
      "I am completely operational, and all my circuits are functioning perfectly 147 | Shimoda\n",
      "http://api.openweathermap.org/data/2.5/weather?units=Imperia&APPID=6fc8ddf3c4a598e2516abc3c927237fe&q=shimoda\n",
      "I am completely operational, and all my circuits are functioning perfectly 148 | Puerto del Rosario\n",
      "http://api.openweathermap.org/data/2.5/weather?units=Imperia&APPID=6fc8ddf3c4a598e2516abc3c927237fe&q=puerto del rosario\n",
      "I am completely operational, and all my circuits are functioning perfectly 149 | Okhansk\n",
      "http://api.openweathermap.org/data/2.5/weather?units=Imperia&APPID=6fc8ddf3c4a598e2516abc3c927237fe&q=okhansk\n",
      "I am completely operational, and all my circuits are functioning perfectly 150 | Khatanga\n",
      "http://api.openweathermap.org/data/2.5/weather?units=Imperia&APPID=6fc8ddf3c4a598e2516abc3c927237fe&q=khatanga\n",
      "I am completely operational, and all my circuits are functioning perfectly 151 | Ewa Beach\n",
      "http://api.openweathermap.org/data/2.5/weather?units=Imperia&APPID=6fc8ddf3c4a598e2516abc3c927237fe&q=ewa beach\n",
      "I am completely operational, and all my circuits are functioning perfectly 152 | Alice Springs\n",
      "http://api.openweathermap.org/data/2.5/weather?units=Imperia&APPID=6fc8ddf3c4a598e2516abc3c927237fe&q=alice springs\n",
      "I am completely operational, and all my circuits are functioning perfectly 153 | Antsohihy\n",
      "http://api.openweathermap.org/data/2.5/weather?units=Imperia&APPID=6fc8ddf3c4a598e2516abc3c927237fe&q=antsohihy\n",
      "I am completely operational, and all my circuits are functioning perfectly 154 | Moree\n",
      "http://api.openweathermap.org/data/2.5/weather?units=Imperia&APPID=6fc8ddf3c4a598e2516abc3c927237fe&q=moree\n",
      "I'm sorry Dave, I can't do that...\n",
      "I am completely operational, and all my circuits are functioning perfectly 155 | Bethanien\n",
      "http://api.openweathermap.org/data/2.5/weather?units=Imperia&APPID=6fc8ddf3c4a598e2516abc3c927237fe&q=bethanien\n",
      "I am completely operational, and all my circuits are functioning perfectly 156 | Nizhniy Kuranakh\n",
      "http://api.openweathermap.org/data/2.5/weather?units=Imperia&APPID=6fc8ddf3c4a598e2516abc3c927237fe&q=nizhniy kuranakh\n",
      "I am completely operational, and all my circuits are functioning perfectly 157 | Praya\n",
      "http://api.openweathermap.org/data/2.5/weather?units=Imperia&APPID=6fc8ddf3c4a598e2516abc3c927237fe&q=praya\n",
      "I am completely operational, and all my circuits are functioning perfectly 158 | Glenluce\n",
      "http://api.openweathermap.org/data/2.5/weather?units=Imperia&APPID=6fc8ddf3c4a598e2516abc3c927237fe&q=glenluce\n",
      "I am completely operational, and all my circuits are functioning perfectly 159 | Sousa\n",
      "http://api.openweathermap.org/data/2.5/weather?units=Imperia&APPID=6fc8ddf3c4a598e2516abc3c927237fe&q=sousa\n",
      "I am completely operational, and all my circuits are functioning perfectly 160 | Rio Gallegos\n",
      "http://api.openweathermap.org/data/2.5/weather?units=Imperia&APPID=6fc8ddf3c4a598e2516abc3c927237fe&q=rio gallegos\n",
      "I am completely operational, and all my circuits are functioning perfectly 161 | Tomohon\n",
      "http://api.openweathermap.org/data/2.5/weather?units=Imperia&APPID=6fc8ddf3c4a598e2516abc3c927237fe&q=tomohon\n",
      "I'm sorry Dave, I can't do that...\n",
      "I am completely operational, and all my circuits are functioning perfectly 162 | Luanda\n",
      "http://api.openweathermap.org/data/2.5/weather?units=Imperia&APPID=6fc8ddf3c4a598e2516abc3c927237fe&q=luanda\n"
     ]
    },
    {
     "name": "stdout",
     "output_type": "stream",
     "text": [
      "I am completely operational, and all my circuits are functioning perfectly 163 | Saint-Pierre\n",
      "http://api.openweathermap.org/data/2.5/weather?units=Imperia&APPID=6fc8ddf3c4a598e2516abc3c927237fe&q=saint-pierre\n",
      "I am completely operational, and all my circuits are functioning perfectly 164 | Vostok\n",
      "http://api.openweathermap.org/data/2.5/weather?units=Imperia&APPID=6fc8ddf3c4a598e2516abc3c927237fe&q=vostok\n",
      "I am completely operational, and all my circuits are functioning perfectly 165 | Le Port\n",
      "http://api.openweathermap.org/data/2.5/weather?units=Imperia&APPID=6fc8ddf3c4a598e2516abc3c927237fe&q=le port\n",
      "I'm sorry Dave, I can't do that...\n",
      "I am completely operational, and all my circuits are functioning perfectly 166 | Skibbereen\n",
      "http://api.openweathermap.org/data/2.5/weather?units=Imperia&APPID=6fc8ddf3c4a598e2516abc3c927237fe&q=skibbereen\n",
      "I am completely operational, and all my circuits are functioning perfectly 167 | Broome\n",
      "http://api.openweathermap.org/data/2.5/weather?units=Imperia&APPID=6fc8ddf3c4a598e2516abc3c927237fe&q=broome\n",
      "I am completely operational, and all my circuits are functioning perfectly 168 | San Pietro Vernotico\n",
      "http://api.openweathermap.org/data/2.5/weather?units=Imperia&APPID=6fc8ddf3c4a598e2516abc3c927237fe&q=san pietro vernotico\n",
      "I am completely operational, and all my circuits are functioning perfectly 169 | Wilmington\n",
      "http://api.openweathermap.org/data/2.5/weather?units=Imperia&APPID=6fc8ddf3c4a598e2516abc3c927237fe&q=wilmington\n",
      "I am completely operational, and all my circuits are functioning perfectly 170 | Gizo\n",
      "http://api.openweathermap.org/data/2.5/weather?units=Imperia&APPID=6fc8ddf3c4a598e2516abc3c927237fe&q=gizo\n",
      "I am completely operational, and all my circuits are functioning perfectly 171 | Vila Velha\n",
      "http://api.openweathermap.org/data/2.5/weather?units=Imperia&APPID=6fc8ddf3c4a598e2516abc3c927237fe&q=vila velha\n",
      "I am completely operational, and all my circuits are functioning perfectly 172 | Westport\n",
      "http://api.openweathermap.org/data/2.5/weather?units=Imperia&APPID=6fc8ddf3c4a598e2516abc3c927237fe&q=westport\n",
      "I am completely operational, and all my circuits are functioning perfectly 173 | Porto Novo\n",
      "http://api.openweathermap.org/data/2.5/weather?units=Imperia&APPID=6fc8ddf3c4a598e2516abc3c927237fe&q=porto novo\n",
      "I am completely operational, and all my circuits are functioning perfectly 174 | Aksarka\n",
      "http://api.openweathermap.org/data/2.5/weather?units=Imperia&APPID=6fc8ddf3c4a598e2516abc3c927237fe&q=aksarka\n",
      "I am completely operational, and all my circuits are functioning perfectly 175 | Sao Filipe\n",
      "http://api.openweathermap.org/data/2.5/weather?units=Imperia&APPID=6fc8ddf3c4a598e2516abc3c927237fe&q=sao filipe\n",
      "I'm sorry Dave, I can't do that...\n",
      "I am completely operational, and all my circuits are functioning perfectly 176 | Hearst\n",
      "http://api.openweathermap.org/data/2.5/weather?units=Imperia&APPID=6fc8ddf3c4a598e2516abc3c927237fe&q=hearst\n",
      "I am completely operational, and all my circuits are functioning perfectly 177 | Iskateley\n",
      "http://api.openweathermap.org/data/2.5/weather?units=Imperia&APPID=6fc8ddf3c4a598e2516abc3c927237fe&q=iskateley\n",
      "I am completely operational, and all my circuits are functioning perfectly 178 | Kupino\n",
      "http://api.openweathermap.org/data/2.5/weather?units=Imperia&APPID=6fc8ddf3c4a598e2516abc3c927237fe&q=kupino\n",
      "I am completely operational, and all my circuits are functioning perfectly 179 | Lavrentiya\n",
      "http://api.openweathermap.org/data/2.5/weather?units=Imperia&APPID=6fc8ddf3c4a598e2516abc3c927237fe&q=lavrentiya\n",
      "I am completely operational, and all my circuits are functioning perfectly 180 | Quang Ngai\n",
      "http://api.openweathermap.org/data/2.5/weather?units=Imperia&APPID=6fc8ddf3c4a598e2516abc3c927237fe&q=quang ngai\n",
      "I'm sorry Dave, I can't do that...\n",
      "I am completely operational, and all my circuits are functioning perfectly 181 | Cabo San Lucas\n",
      "http://api.openweathermap.org/data/2.5/weather?units=Imperia&APPID=6fc8ddf3c4a598e2516abc3c927237fe&q=cabo san lucas\n",
      "I am completely operational, and all my circuits are functioning perfectly 182 | Grindavik\n",
      "http://api.openweathermap.org/data/2.5/weather?units=Imperia&APPID=6fc8ddf3c4a598e2516abc3c927237fe&q=grindavik\n",
      "I am completely operational, and all my circuits are functioning perfectly 183 | Mahebourg\n",
      "http://api.openweathermap.org/data/2.5/weather?units=Imperia&APPID=6fc8ddf3c4a598e2516abc3c927237fe&q=mahebourg\n",
      "I am completely operational, and all my circuits are functioning perfectly 184 | Gopalpur\n",
      "http://api.openweathermap.org/data/2.5/weather?units=Imperia&APPID=6fc8ddf3c4a598e2516abc3c927237fe&q=gopalpur\n",
      "I am completely operational, and all my circuits are functioning perfectly 185 | Akdepe\n",
      "http://api.openweathermap.org/data/2.5/weather?units=Imperia&APPID=6fc8ddf3c4a598e2516abc3c927237fe&q=akdepe\n",
      "I am completely operational, and all my circuits are functioning perfectly 186 | Healesville\n",
      "http://api.openweathermap.org/data/2.5/weather?units=Imperia&APPID=6fc8ddf3c4a598e2516abc3c927237fe&q=healesville\n",
      "I am completely operational, and all my circuits are functioning perfectly 187 | Angoche\n",
      "http://api.openweathermap.org/data/2.5/weather?units=Imperia&APPID=6fc8ddf3c4a598e2516abc3c927237fe&q=angoche\n",
      "I am completely operational, and all my circuits are functioning perfectly 188 | Vestmannaeyjar\n",
      "http://api.openweathermap.org/data/2.5/weather?units=Imperia&APPID=6fc8ddf3c4a598e2516abc3c927237fe&q=vestmannaeyjar\n",
      "I'm sorry Dave, I can't do that...\n",
      "I am completely operational, and all my circuits are functioning perfectly 189 | Eyrarbakki\n",
      "http://api.openweathermap.org/data/2.5/weather?units=Imperia&APPID=6fc8ddf3c4a598e2516abc3c927237fe&q=eyrarbakki\n",
      "I am completely operational, and all my circuits are functioning perfectly 190 | Makakilo City\n",
      "http://api.openweathermap.org/data/2.5/weather?units=Imperia&APPID=6fc8ddf3c4a598e2516abc3c927237fe&q=makakilo city\n",
      "I am completely operational, and all my circuits are functioning perfectly 191 | Terney\n",
      "http://api.openweathermap.org/data/2.5/weather?units=Imperia&APPID=6fc8ddf3c4a598e2516abc3c927237fe&q=terney\n",
      "I am completely operational, and all my circuits are functioning perfectly 192 | Zirandaro\n",
      "http://api.openweathermap.org/data/2.5/weather?units=Imperia&APPID=6fc8ddf3c4a598e2516abc3c927237fe&q=zirandaro\n",
      "I am completely operational, and all my circuits are functioning perfectly 193 | Neiafu\n",
      "http://api.openweathermap.org/data/2.5/weather?units=Imperia&APPID=6fc8ddf3c4a598e2516abc3c927237fe&q=neiafu\n",
      "I am completely operational, and all my circuits are functioning perfectly 194 | Otjiwarongo\n",
      "http://api.openweathermap.org/data/2.5/weather?units=Imperia&APPID=6fc8ddf3c4a598e2516abc3c927237fe&q=otjiwarongo\n",
      "I am completely operational, and all my circuits are functioning perfectly 195 | Hailin\n",
      "http://api.openweathermap.org/data/2.5/weather?units=Imperia&APPID=6fc8ddf3c4a598e2516abc3c927237fe&q=hailin\n",
      "I'm sorry Dave, I can't do that...\n",
      "I am completely operational, and all my circuits are functioning perfectly 196 | Tomatlan\n",
      "http://api.openweathermap.org/data/2.5/weather?units=Imperia&APPID=6fc8ddf3c4a598e2516abc3c927237fe&q=tomatlan\n",
      "I am completely operational, and all my circuits are functioning perfectly 197 | Auki\n",
      "http://api.openweathermap.org/data/2.5/weather?units=Imperia&APPID=6fc8ddf3c4a598e2516abc3c927237fe&q=auki\n",
      "I am completely operational, and all my circuits are functioning perfectly 198 | Aykhal\n",
      "http://api.openweathermap.org/data/2.5/weather?units=Imperia&APPID=6fc8ddf3c4a598e2516abc3c927237fe&q=aykhal\n",
      "I am completely operational, and all my circuits are functioning perfectly 199 | Cotorra\n",
      "http://api.openweathermap.org/data/2.5/weather?units=Imperia&APPID=6fc8ddf3c4a598e2516abc3c927237fe&q=cotorra\n",
      "I am completely operational, and all my circuits are functioning perfectly 200 | Ganzhou\n",
      "http://api.openweathermap.org/data/2.5/weather?units=Imperia&APPID=6fc8ddf3c4a598e2516abc3c927237fe&q=ganzhou\n",
      "I am completely operational, and all my circuits are functioning perfectly 201 | Whitefish\n",
      "http://api.openweathermap.org/data/2.5/weather?units=Imperia&APPID=6fc8ddf3c4a598e2516abc3c927237fe&q=whitefish\n",
      "I am completely operational, and all my circuits are functioning perfectly 202 | Vila Franca do Campo\n",
      "http://api.openweathermap.org/data/2.5/weather?units=Imperia&APPID=6fc8ddf3c4a598e2516abc3c927237fe&q=vila franca do campo\n"
     ]
    },
    {
     "name": "stdout",
     "output_type": "stream",
     "text": [
      "I'm sorry Dave, I can't do that...\n",
      "I am completely operational, and all my circuits are functioning perfectly 203 | Biltine\n",
      "http://api.openweathermap.org/data/2.5/weather?units=Imperia&APPID=6fc8ddf3c4a598e2516abc3c927237fe&q=biltine\n",
      "I am completely operational, and all my circuits are functioning perfectly 204 | Oga\n",
      "http://api.openweathermap.org/data/2.5/weather?units=Imperia&APPID=6fc8ddf3c4a598e2516abc3c927237fe&q=oga\n",
      "I'm sorry Dave, I can't do that...\n",
      "I am completely operational, and all my circuits are functioning perfectly 205 | Namanga\n",
      "http://api.openweathermap.org/data/2.5/weather?units=Imperia&APPID=6fc8ddf3c4a598e2516abc3c927237fe&q=namanga\n",
      "I am completely operational, and all my circuits are functioning perfectly 206 | Dingli\n",
      "http://api.openweathermap.org/data/2.5/weather?units=Imperia&APPID=6fc8ddf3c4a598e2516abc3c927237fe&q=dingli\n",
      "I am completely operational, and all my circuits are functioning perfectly 207 | Roccastrada\n",
      "http://api.openweathermap.org/data/2.5/weather?units=Imperia&APPID=6fc8ddf3c4a598e2516abc3c927237fe&q=roccastrada\n",
      "I'm sorry Dave, I can't do that...\n",
      "I am completely operational, and all my circuits are functioning perfectly 208 | Sabang\n",
      "http://api.openweathermap.org/data/2.5/weather?units=Imperia&APPID=6fc8ddf3c4a598e2516abc3c927237fe&q=sabang\n",
      "I am completely operational, and all my circuits are functioning perfectly 209 | Prachuap Khiri Khan\n",
      "http://api.openweathermap.org/data/2.5/weather?units=Imperia&APPID=6fc8ddf3c4a598e2516abc3c927237fe&q=prachuap khiri khan\n",
      "I am completely operational, and all my circuits are functioning perfectly 210 | Santa Maria\n",
      "http://api.openweathermap.org/data/2.5/weather?units=Imperia&APPID=6fc8ddf3c4a598e2516abc3c927237fe&q=santa maria\n",
      "I am completely operational, and all my circuits are functioning perfectly 211 | Kichmengskiy Gorodok\n",
      "http://api.openweathermap.org/data/2.5/weather?units=Imperia&APPID=6fc8ddf3c4a598e2516abc3c927237fe&q=kichmengskiy gorodok\n",
      "I am completely operational, and all my circuits are functioning perfectly 212 | Selkirk\n",
      "http://api.openweathermap.org/data/2.5/weather?units=Imperia&APPID=6fc8ddf3c4a598e2516abc3c927237fe&q=selkirk\n",
      "I am completely operational, and all my circuits are functioning perfectly 213 | Cherskiy\n",
      "http://api.openweathermap.org/data/2.5/weather?units=Imperia&APPID=6fc8ddf3c4a598e2516abc3c927237fe&q=cherskiy\n",
      "I am completely operational, and all my circuits are functioning perfectly 214 | Gorontalo\n",
      "http://api.openweathermap.org/data/2.5/weather?units=Imperia&APPID=6fc8ddf3c4a598e2516abc3c927237fe&q=gorontalo\n",
      "I am completely operational, and all my circuits are functioning perfectly 215 | Imbituba\n",
      "http://api.openweathermap.org/data/2.5/weather?units=Imperia&APPID=6fc8ddf3c4a598e2516abc3c927237fe&q=imbituba\n",
      "I am completely operational, and all my circuits are functioning perfectly 216 | Ibra\n",
      "http://api.openweathermap.org/data/2.5/weather?units=Imperia&APPID=6fc8ddf3c4a598e2516abc3c927237fe&q=ibra\n",
      "I'm sorry Dave, I can't do that...\n",
      "I am completely operational, and all my circuits are functioning perfectly 217 | Sakassou\n",
      "http://api.openweathermap.org/data/2.5/weather?units=Imperia&APPID=6fc8ddf3c4a598e2516abc3c927237fe&q=sakassou\n",
      "I am completely operational, and all my circuits are functioning perfectly 218 | Praxedis Guerrero\n",
      "http://api.openweathermap.org/data/2.5/weather?units=Imperia&APPID=6fc8ddf3c4a598e2516abc3c927237fe&q=praxedis guerrero\n",
      "I am completely operational, and all my circuits are functioning perfectly 219 | Marathon\n",
      "http://api.openweathermap.org/data/2.5/weather?units=Imperia&APPID=6fc8ddf3c4a598e2516abc3c927237fe&q=marathon\n",
      "I am completely operational, and all my circuits are functioning perfectly 220 | Romanu\n",
      "http://api.openweathermap.org/data/2.5/weather?units=Imperia&APPID=6fc8ddf3c4a598e2516abc3c927237fe&q=romanu\n",
      "I am completely operational, and all my circuits are functioning perfectly 221 | Alanya\n",
      "http://api.openweathermap.org/data/2.5/weather?units=Imperia&APPID=6fc8ddf3c4a598e2516abc3c927237fe&q=alanya\n",
      "I am completely operational, and all my circuits are functioning perfectly 222 | Ambilobe\n",
      "http://api.openweathermap.org/data/2.5/weather?units=Imperia&APPID=6fc8ddf3c4a598e2516abc3c927237fe&q=ambilobe\n",
      "I am completely operational, and all my circuits are functioning perfectly 223 | Bonthe\n",
      "http://api.openweathermap.org/data/2.5/weather?units=Imperia&APPID=6fc8ddf3c4a598e2516abc3c927237fe&q=bonthe\n",
      "I am completely operational, and all my circuits are functioning perfectly 224 | Guilin\n",
      "http://api.openweathermap.org/data/2.5/weather?units=Imperia&APPID=6fc8ddf3c4a598e2516abc3c927237fe&q=guilin\n",
      "I am completely operational, and all my circuits are functioning perfectly 225 | Broken Hill\n",
      "http://api.openweathermap.org/data/2.5/weather?units=Imperia&APPID=6fc8ddf3c4a598e2516abc3c927237fe&q=broken hill\n",
      "I am completely operational, and all my circuits are functioning perfectly 226 | Kieta\n",
      "http://api.openweathermap.org/data/2.5/weather?units=Imperia&APPID=6fc8ddf3c4a598e2516abc3c927237fe&q=kieta\n",
      "I am completely operational, and all my circuits are functioning perfectly 227 | Sola\n",
      "http://api.openweathermap.org/data/2.5/weather?units=Imperia&APPID=6fc8ddf3c4a598e2516abc3c927237fe&q=sola\n",
      "I am completely operational, and all my circuits are functioning perfectly 228 | Semnan\n",
      "http://api.openweathermap.org/data/2.5/weather?units=Imperia&APPID=6fc8ddf3c4a598e2516abc3c927237fe&q=semnan\n",
      "I am completely operational, and all my circuits are functioning perfectly 229 | Kampot\n",
      "http://api.openweathermap.org/data/2.5/weather?units=Imperia&APPID=6fc8ddf3c4a598e2516abc3c927237fe&q=kampot\n",
      "I'm sorry Dave, I can't do that...\n",
      "I am completely operational, and all my circuits are functioning perfectly 230 | North Battleford\n",
      "http://api.openweathermap.org/data/2.5/weather?units=Imperia&APPID=6fc8ddf3c4a598e2516abc3c927237fe&q=north battleford\n",
      "I am completely operational, and all my circuits are functioning perfectly 231 | Taoudenni\n",
      "http://api.openweathermap.org/data/2.5/weather?units=Imperia&APPID=6fc8ddf3c4a598e2516abc3c927237fe&q=taoudenni\n",
      "I am completely operational, and all my circuits are functioning perfectly 232 | Kirakira\n",
      "http://api.openweathermap.org/data/2.5/weather?units=Imperia&APPID=6fc8ddf3c4a598e2516abc3c927237fe&q=kirakira\n",
      "I am completely operational, and all my circuits are functioning perfectly 233 | Barcelos\n",
      "http://api.openweathermap.org/data/2.5/weather?units=Imperia&APPID=6fc8ddf3c4a598e2516abc3c927237fe&q=barcelos\n",
      "I am completely operational, and all my circuits are functioning perfectly 234 | Kaiyuan\n",
      "http://api.openweathermap.org/data/2.5/weather?units=Imperia&APPID=6fc8ddf3c4a598e2516abc3c927237fe&q=kaiyuan\n",
      "I am completely operational, and all my circuits are functioning perfectly 235 | Cabot\n",
      "http://api.openweathermap.org/data/2.5/weather?units=Imperia&APPID=6fc8ddf3c4a598e2516abc3c927237fe&q=cabot\n",
      "I am completely operational, and all my circuits are functioning perfectly 236 | Richards Bay\n",
      "http://api.openweathermap.org/data/2.5/weather?units=Imperia&APPID=6fc8ddf3c4a598e2516abc3c927237fe&q=richards bay\n",
      "I am completely operational, and all my circuits are functioning perfectly 237 | Ponta Delgada\n",
      "http://api.openweathermap.org/data/2.5/weather?units=Imperia&APPID=6fc8ddf3c4a598e2516abc3c927237fe&q=ponta delgada\n",
      "I am completely operational, and all my circuits are functioning perfectly 238 | Santa Lucia\n",
      "http://api.openweathermap.org/data/2.5/weather?units=Imperia&APPID=6fc8ddf3c4a598e2516abc3c927237fe&q=santa lucia\n",
      "I'm sorry Dave, I can't do that...\n",
      "I am completely operational, and all my circuits are functioning perfectly 239 | Maun\n",
      "http://api.openweathermap.org/data/2.5/weather?units=Imperia&APPID=6fc8ddf3c4a598e2516abc3c927237fe&q=maun\n",
      "I am completely operational, and all my circuits are functioning perfectly 240 | Kirkcudbright\n",
      "http://api.openweathermap.org/data/2.5/weather?units=Imperia&APPID=6fc8ddf3c4a598e2516abc3c927237fe&q=kirkcudbright\n",
      "I am completely operational, and all my circuits are functioning perfectly 241 | Monopoli\n",
      "http://api.openweathermap.org/data/2.5/weather?units=Imperia&APPID=6fc8ddf3c4a598e2516abc3c927237fe&q=monopoli\n",
      "I am completely operational, and all my circuits are functioning perfectly 242 | Codajas\n",
      "http://api.openweathermap.org/data/2.5/weather?units=Imperia&APPID=6fc8ddf3c4a598e2516abc3c927237fe&q=codajas\n"
     ]
    },
    {
     "name": "stdout",
     "output_type": "stream",
     "text": [
      "I am completely operational, and all my circuits are functioning perfectly 243 | Luganville\n",
      "http://api.openweathermap.org/data/2.5/weather?units=Imperia&APPID=6fc8ddf3c4a598e2516abc3c927237fe&q=luganville\n",
      "I am completely operational, and all my circuits are functioning perfectly 244 | Isfana\n",
      "http://api.openweathermap.org/data/2.5/weather?units=Imperia&APPID=6fc8ddf3c4a598e2516abc3c927237fe&q=isfana\n",
      "I'm sorry Dave, I can't do that...\n",
      "I am completely operational, and all my circuits are functioning perfectly 245 | Atagay\n",
      "http://api.openweathermap.org/data/2.5/weather?units=Imperia&APPID=6fc8ddf3c4a598e2516abc3c927237fe&q=atagay\n",
      "I am completely operational, and all my circuits are functioning perfectly 246 | Iranshahr\n",
      "http://api.openweathermap.org/data/2.5/weather?units=Imperia&APPID=6fc8ddf3c4a598e2516abc3c927237fe&q=iranshahr\n",
      "I'm sorry Dave, I can't do that...\n",
      "I am completely operational, and all my circuits are functioning perfectly 247 | Ende\n",
      "http://api.openweathermap.org/data/2.5/weather?units=Imperia&APPID=6fc8ddf3c4a598e2516abc3c927237fe&q=ende\n",
      "I'm sorry Dave, I can't do that...\n",
      "I am completely operational, and all my circuits are functioning perfectly 248 | Calama\n",
      "http://api.openweathermap.org/data/2.5/weather?units=Imperia&APPID=6fc8ddf3c4a598e2516abc3c927237fe&q=calama\n",
      "I am completely operational, and all my circuits are functioning perfectly 249 | Wagar\n",
      "http://api.openweathermap.org/data/2.5/weather?units=Imperia&APPID=6fc8ddf3c4a598e2516abc3c927237fe&q=wagar\n",
      "I am completely operational, and all my circuits are functioning perfectly 250 | Galle\n",
      "http://api.openweathermap.org/data/2.5/weather?units=Imperia&APPID=6fc8ddf3c4a598e2516abc3c927237fe&q=galle\n",
      "I am completely operational, and all my circuits are functioning perfectly 251 | Buala\n",
      "http://api.openweathermap.org/data/2.5/weather?units=Imperia&APPID=6fc8ddf3c4a598e2516abc3c927237fe&q=buala\n",
      "I am completely operational, and all my circuits are functioning perfectly 252 | Anloga\n",
      "http://api.openweathermap.org/data/2.5/weather?units=Imperia&APPID=6fc8ddf3c4a598e2516abc3c927237fe&q=anloga\n",
      "I am completely operational, and all my circuits are functioning perfectly 253 | Ormara\n",
      "http://api.openweathermap.org/data/2.5/weather?units=Imperia&APPID=6fc8ddf3c4a598e2516abc3c927237fe&q=ormara\n",
      "I am completely operational, and all my circuits are functioning perfectly 254 | Immokalee\n",
      "http://api.openweathermap.org/data/2.5/weather?units=Imperia&APPID=6fc8ddf3c4a598e2516abc3c927237fe&q=immokalee\n",
      "I am completely operational, and all my circuits are functioning perfectly 255 | Kloulklubed\n",
      "http://api.openweathermap.org/data/2.5/weather?units=Imperia&APPID=6fc8ddf3c4a598e2516abc3c927237fe&q=kloulklubed\n",
      "I'm sorry Dave, I can't do that...\n",
      "I am completely operational, and all my circuits are functioning perfectly 256 | Caravelas\n",
      "http://api.openweathermap.org/data/2.5/weather?units=Imperia&APPID=6fc8ddf3c4a598e2516abc3c927237fe&q=caravelas\n",
      "I am completely operational, and all my circuits are functioning perfectly 257 | Carutapera\n",
      "http://api.openweathermap.org/data/2.5/weather?units=Imperia&APPID=6fc8ddf3c4a598e2516abc3c927237fe&q=carutapera\n",
      "I am completely operational, and all my circuits are functioning perfectly 258 | Alakurtti\n",
      "http://api.openweathermap.org/data/2.5/weather?units=Imperia&APPID=6fc8ddf3c4a598e2516abc3c927237fe&q=alakurtti\n",
      "I am completely operational, and all my circuits are functioning perfectly 259 | Lata\n",
      "http://api.openweathermap.org/data/2.5/weather?units=Imperia&APPID=6fc8ddf3c4a598e2516abc3c927237fe&q=lata\n",
      "I am completely operational, and all my circuits are functioning perfectly 260 | Petatlan\n",
      "http://api.openweathermap.org/data/2.5/weather?units=Imperia&APPID=6fc8ddf3c4a598e2516abc3c927237fe&q=petatlan\n",
      "I am completely operational, and all my circuits are functioning perfectly 261 | Udachnyy\n",
      "http://api.openweathermap.org/data/2.5/weather?units=Imperia&APPID=6fc8ddf3c4a598e2516abc3c927237fe&q=udachnyy\n",
      "I am completely operational, and all my circuits are functioning perfectly 262 | West Haven\n",
      "http://api.openweathermap.org/data/2.5/weather?units=Imperia&APPID=6fc8ddf3c4a598e2516abc3c927237fe&q=west haven\n",
      "I am completely operational, and all my circuits are functioning perfectly 263 | Pravia\n",
      "http://api.openweathermap.org/data/2.5/weather?units=Imperia&APPID=6fc8ddf3c4a598e2516abc3c927237fe&q=pravia\n"
     ]
    }
   ],
   "source": [
    "# Create empty lists to append the API data into lists \n",
    "city_name = []\n",
    "cloudiness = []\n",
    "country = []\n",
    "date = []\n",
    "humidity = []\n",
    "lat = []\n",
    "lng = []\n",
    "max_temp = []\n",
    "wind_speed = []\n",
    "\n",
    "# Start the call counter \n",
    "record = 1\n",
    "\n",
    "# Log file print statement\n",
    "print(f\"Look Dave, I can see you're really upset about this. I honestly think you ought to sit down calmly, take a stress pill\")\n",
    "print(f\":-)...:-)...:-)...:-)\")\n",
    "\n",
    "#Loop through the cities in the city list \n",
    "for city in cities:  \n",
    "    \n",
    "    # Try statement to append calls where value is found \n",
    "    # Not all calls return data as OpenWeatherMap will not have have records in all the cities generated by CityPy module\n",
    "    try: \n",
    "        response = requests.get(f\"{url}&q={city}\").json() \n",
    "        city_name.append(response[\"name\"])\n",
    "        cloudiness.append(response[\"clouds\"][\"all\"])\n",
    "        country.append(response[\"sys\"][\"country\"])\n",
    "        date.append(response[\"dt\"])\n",
    "        humidity.append(response[\"main\"][\"humidity\"])\n",
    "        max_temp.append(response[\"main\"][\"temp_max\"])\n",
    "        lat.append(response[\"coord\"][\"lat\"])\n",
    "        lng.append(response[\"coord\"][\"lon\"])\n",
    "        wind_speed.append(response[\"wind\"][\"speed\"])\n",
    "        city_record = response[\"name\"]\n",
    "        print(f\"I am completely operational, and all my circuits are functioning perfectly {record} | {city_record}\")\n",
    "        print(f\"{url}&q={city}\")\n",
    "        \n",
    "        # Increase counter by one \n",
    "        record= record + 1\n",
    "        \n",
    "        # Wait a second in loop to not over exceed rate limit of API\n",
    "        time.sleep(1.01)\n",
    "        \n",
    "    # If no record found \"skip\" to next call\n",
    "    except:\n",
    "        print(\"I'm sorry Dave, I can't do that...\")\n",
    "    continue"
   ]
  },
  {
   "cell_type": "code",
   "execution_count": null,
   "metadata": {},
   "outputs": [],
   "source": [
    "# output data to csv\n",
    "weather_dataframe.to_csv(output_data_file)"
   ]
  },
  {
   "cell_type": "markdown",
   "metadata": {},
   "source": [
    "### Convert Raw Data to DataFrame\n",
    "* Export the city data into a .csv.\n",
    "* Display the DataFrame"
   ]
  },
  {
   "cell_type": "code",
   "execution_count": 18,
   "metadata": {},
   "outputs": [
    {
     "data": {
      "text/plain": [
       "City          263\n",
       "Cloudiness    263\n",
       "Country       263\n",
       "Date          263\n",
       "Humidity      263\n",
       "Lat           263\n",
       "Lng           263\n",
       "Max Temp      263\n",
       "Wind Speed    263\n",
       "dtype: int64"
      ]
     },
     "execution_count": 18,
     "metadata": {},
     "output_type": "execute_result"
    }
   ],
   "source": [
    "# Create a dictonary with the lists generated\n",
    "weatherpy_dict = {\n",
    "    \"City\": city_name,\n",
    "    \"Cloudiness\":cloudiness, \n",
    "    \"Country\":country,\n",
    "    \"Date\":date, \n",
    "    \"Humidity\": humidity,\n",
    "    \"Lat\":lat, \n",
    "    \"Lng\":lng, \n",
    "    \"Max Temp\": max_temp,\n",
    "    \"Wind Speed\":wind_speed\n",
    "}\n",
    "\n",
    "# Create a data frame from dictionary\n",
    "weather_data = pd.DataFrame(weatherpy_dict)\n",
    "\n",
    "# Display count of weather data values \n",
    "weather_data.count()"
   ]
  },
  {
   "cell_type": "code",
   "execution_count": null,
   "metadata": {},
   "outputs": [],
   "source": [
    "# 263 records? well, it started with more"
   ]
  },
  {
   "cell_type": "code",
   "execution_count": 19,
   "metadata": {},
   "outputs": [
    {
     "data": {
      "text/html": [
       "<div>\n",
       "<style scoped>\n",
       "    .dataframe tbody tr th:only-of-type {\n",
       "        vertical-align: middle;\n",
       "    }\n",
       "\n",
       "    .dataframe tbody tr th {\n",
       "        vertical-align: top;\n",
       "    }\n",
       "\n",
       "    .dataframe thead th {\n",
       "        text-align: right;\n",
       "    }\n",
       "</style>\n",
       "<table border=\"1\" class=\"dataframe\">\n",
       "  <thead>\n",
       "    <tr style=\"text-align: right;\">\n",
       "      <th></th>\n",
       "      <th>City</th>\n",
       "      <th>Cloudiness</th>\n",
       "      <th>Country</th>\n",
       "      <th>Date</th>\n",
       "      <th>Humidity</th>\n",
       "      <th>Lat</th>\n",
       "      <th>Lng</th>\n",
       "      <th>Max Temp</th>\n",
       "      <th>Wind Speed</th>\n",
       "    </tr>\n",
       "  </thead>\n",
       "  <tbody>\n",
       "    <tr>\n",
       "      <th>0</th>\n",
       "      <td>Busselton</td>\n",
       "      <td>100</td>\n",
       "      <td>AU</td>\n",
       "      <td>1569181239</td>\n",
       "      <td>68</td>\n",
       "      <td>-33.64</td>\n",
       "      <td>115.35</td>\n",
       "      <td>282.04</td>\n",
       "      <td>7.63</td>\n",
       "    </tr>\n",
       "    <tr>\n",
       "      <th>1</th>\n",
       "      <td>Vaini</td>\n",
       "      <td>32</td>\n",
       "      <td>IN</td>\n",
       "      <td>1569181240</td>\n",
       "      <td>93</td>\n",
       "      <td>15.34</td>\n",
       "      <td>74.49</td>\n",
       "      <td>296.63</td>\n",
       "      <td>1.12</td>\n",
       "    </tr>\n",
       "    <tr>\n",
       "      <th>2</th>\n",
       "      <td>Kahului</td>\n",
       "      <td>1</td>\n",
       "      <td>US</td>\n",
       "      <td>1569181241</td>\n",
       "      <td>66</td>\n",
       "      <td>20.89</td>\n",
       "      <td>-156.47</td>\n",
       "      <td>303.15</td>\n",
       "      <td>3.60</td>\n",
       "    </tr>\n",
       "    <tr>\n",
       "      <th>3</th>\n",
       "      <td>Saskylakh</td>\n",
       "      <td>84</td>\n",
       "      <td>RU</td>\n",
       "      <td>1569181243</td>\n",
       "      <td>92</td>\n",
       "      <td>71.97</td>\n",
       "      <td>114.09</td>\n",
       "      <td>274.23</td>\n",
       "      <td>4.92</td>\n",
       "    </tr>\n",
       "    <tr>\n",
       "      <th>4</th>\n",
       "      <td>Morehead</td>\n",
       "      <td>1</td>\n",
       "      <td>US</td>\n",
       "      <td>1569181244</td>\n",
       "      <td>31</td>\n",
       "      <td>38.18</td>\n",
       "      <td>-83.43</td>\n",
       "      <td>305.15</td>\n",
       "      <td>7.70</td>\n",
       "    </tr>\n",
       "  </tbody>\n",
       "</table>\n",
       "</div>"
      ],
      "text/plain": [
       "        City  Cloudiness Country        Date  Humidity    Lat     Lng  \\\n",
       "0  Busselton         100      AU  1569181239        68 -33.64  115.35   \n",
       "1      Vaini          32      IN  1569181240        93  15.34   74.49   \n",
       "2    Kahului           1      US  1569181241        66  20.89 -156.47   \n",
       "3  Saskylakh          84      RU  1569181243        92  71.97  114.09   \n",
       "4   Morehead           1      US  1569181244        31  38.18  -83.43   \n",
       "\n",
       "   Max Temp  Wind Speed  \n",
       "0    282.04        7.63  \n",
       "1    296.63        1.12  \n",
       "2    303.15        3.60  \n",
       "3    274.23        4.92  \n",
       "4    305.15        7.70  "
      ]
     },
     "execution_count": 19,
     "metadata": {},
     "output_type": "execute_result"
    }
   ],
   "source": [
    "#i wonder if I've ever been as miserable as I am right now\n",
    "#maxtemp seems high\n",
    "\n",
    "weather_data.head()"
   ]
  },
  {
   "cell_type": "markdown",
   "metadata": {},
   "source": [
    "### Plotting the Data\n",
    "* Use proper labeling of the plots using plot titles (including date of analysis) and axes labels.\n",
    "* Save the plotted figures as .pngs."
   ]
  },
  {
   "cell_type": "markdown",
   "metadata": {},
   "source": [
    "#### Latitude vs. Temperature Plot"
   ]
  },
  {
   "cell_type": "code",
   "execution_count": 74,
   "metadata": {
    "scrolled": true
   },
   "outputs": [
    {
     "data": {
      "image/png": "[encoded data removed]",
      "text/plain": [
       "<Figure size 432x288 with 1 Axes>"
      ]
     },
     "metadata": {
      "needs_background": "light"
     },
     "output_type": "display_data"
    }
   ],
   "source": [
    "#this is only tolerable because my dog provides comfort and I have wine\n",
    "# Build a scatter plot for each data type\n",
    "plt.scatter(weather_data[\"Lat\"], weather_data[\"Max Temp\"], marker=\"o\", s=10)\n",
    "\n",
    "# Incorporate the other graph properties\n",
    "plt.title(\"City Latitude vs. Max Temperature\")\n",
    "plt.ylabel(\"Max. Temperature (F)\")\n",
    "plt.xlabel(\"Latitude\")\n",
    "plt.grid(True)\n",
    "\n",
    "# Save the figure\n",
    "#plt.savefig(\"Output_Plots/Max_Temp_vs_Latitude.png\")\n",
    "plt.savefig(\"latmax.png\")\n",
    "# Show plot\n",
    "#plt.show()"
   ]
  },
  {
   "cell_type": "code",
   "execution_count": null,
   "metadata": {},
   "outputs": [],
   "source": [
    "#After each plot add a sentence or too explaining what the code is and analyzing.\n",
    "#Well, as a person fluent in English could deduce, this is a plot showing the relationship between latitude and maximum temp"
   ]
  },
  {
   "cell_type": "markdown",
   "metadata": {},
   "source": [
    "#### Latitude vs. Humidity Plot"
   ]
  },
  {
   "cell_type": "code",
   "execution_count": 73,
   "metadata": {},
   "outputs": [
    {
     "data": {
      "image/png": "[encoded data removed]",
      "text/plain": [
       "<Figure size 432x288 with 1 Axes>"
      ]
     },
     "metadata": {
      "needs_background": "light"
     },
     "output_type": "display_data"
    }
   ],
   "source": [
    "# this is just showing the same  with different variables\n",
    "# Build a scatter plot for each data type\n",
    "plt.scatter(weather_data[\"Lat\"], weather_data[\"Humidity\"], marker=\"o\", s=10)\n",
    "\n",
    "# Incorporate the other graph properties\n",
    "plt.title(\"City Latitude vs. Humidity\")\n",
    "plt.ylabel(\"Humidity (%)\")\n",
    "plt.xlabel(\"Latitude\")\n",
    "plt.grid(True)\n",
    "\n",
    "# Save the figure\n",
    "#plt.savefig(\"Output_Plots/Humidity_vs_Latitude.png\")\n",
    "plt.savefig(\"lathum.png\")\n",
    "# Show plot\n",
    "#plt.show()"
   ]
  },
  {
   "cell_type": "markdown",
   "metadata": {},
   "source": [
    "#### Latitude vs. Cloudiness Plot"
   ]
  },
  {
   "cell_type": "code",
   "execution_count": 72,
   "metadata": {},
   "outputs": [
    {
     "data": {
      "image/png": "[encoded data removed]",
      "text/plain": [
       "<Figure size 432x288 with 1 Axes>"
      ]
     },
     "metadata": {
      "needs_background": "light"
     },
     "output_type": "display_data"
    }
   ],
   "source": [
    "plt.scatter(weather_data[\"Lat\"], weather_data[\"Cloudiness\"], marker=\"o\", s=10)\n",
    "\n",
    "# Incorporate the other graph properties\n",
    "plt.title(\"City Latitude vs. Cloudiness\")\n",
    "plt.ylabel(\"Cloudiness (%)\")\n",
    "plt.xlabel(\"Latitude\")\n",
    "plt.grid(True)\n",
    "\n",
    "# Show plot\n",
    "#plt.show()\n",
    "\n",
    "plt.savefig(\"latcloud.png\")"
   ]
  },
  {
   "cell_type": "markdown",
   "metadata": {},
   "source": [
    "#### Latitude vs. Wind Speed Plot"
   ]
  },
  {
   "cell_type": "code",
   "execution_count": 26,
   "metadata": {},
   "outputs": [
    {
     "data": {
      "image/png": "[encoded data removed]",
      "text/plain": [
       "<Figure size 432x288 with 1 Axes>"
      ]
     },
     "metadata": {
      "needs_background": "light"
     },
     "output_type": "display_data"
    }
   ],
   "source": [
    "#let's do the exact same thing with just a change in a variable\n",
    "plt.scatter(weather_data[\"Lat\"], weather_data[\"Wind Speed\"], marker=\"o\", s=10)\n",
    "\n",
    "# Incorporate the other graph properties\n",
    "plt.title(\"City Latitude vs. Wind Speed\")\n",
    "plt.ylabel(\"Wind Speed (mph)\")\n",
    "plt.xlabel(\"Latitude\")\n",
    "plt.grid(True)\n",
    "\n",
    "# Save the figure\n",
    "#plt.savefig(\"Output_Plots/Wind_Speed_vs_Latitude.png\")\n",
    "\n",
    "# Show plot\n",
    "plt.show()"
   ]
  },
  {
   "cell_type": "code",
   "execution_count": 36,
   "metadata": {},
   "outputs": [],
   "source": [
    "#here's your csv\n",
    "weather_data.to_csv(r'C:\\Users\\The Doctor\\Anaconda3\\envs\\clone4\\Homework\\06-Python-APIs\\Instructions\\output_data\\JohnCities.csv')"
   ]
  },
  {
   "cell_type": "code",
   "execution_count": null,
   "metadata": {},
   "outputs": [],
   "source": [
    "#why yes, I did the following in R in about 30 seconds. "
   ]
  },
  {
   "cell_type": "code",
   "execution_count": null,
   "metadata": {},
   "outputs": [],
   "source": [
    "Call:\n",
    "lm(formula = Cloudiness ~ Humidity + Lat + Lng, data = JohnCities)\n",
    "\n",
    "Residuals:\n",
    "    Min      1Q  Median      3Q     Max \n",
    "-61.172 -32.823  -4.667  32.690  80.698 \n",
    "\n",
    "Coefficients:\n",
    "            Estimate Std. Error t value Pr(>|t|)    \n",
    "(Intercept) -1.14409    7.52451  -0.152    0.879    \n",
    "Humidity     0.64756    0.10570   6.126 3.32e-09 ***\n",
    "Lat         -0.02759    0.06963  -0.396    0.692    \n",
    "Lng         -0.01530    0.02623  -0.584    0.560    \n",
    "---\n",
    "Signif. codes:  0 ‘***’ 0.001 ‘**’ 0.01 ‘*’ 0.05 ‘.’ 0.1 ‘ ’ 1\n",
    "\n",
    "Residual standard error: 36.42 on 259 degrees of freedom\n",
    "Multiple R-squared:  0.1333,\tAdjusted R-squared:  0.1232 \n",
    "F-statistic: 13.27 on 3 and 259 DF,  p-value: 4.35e-08\n"
   ]
  },
  {
   "cell_type": "markdown",
   "metadata": {},
   "source": [
    "## Linear Regression"
   ]
  },
  {
   "cell_type": "code",
   "execution_count": 88,
   "metadata": {},
   "outputs": [
    {
     "data": {
      "image/png": "[encoded data removed]",
      "text/plain": [
       "<Figure size 432x288 with 1 Axes>"
      ]
     },
     "metadata": {
      "needs_background": "light"
     },
     "output_type": "display_data"
    },
    {
     "ename": "FileNotFoundError",
     "evalue": "[Errno 2] No such file or directory: 'Output_Plots/Humidity_vs_Latitude.png'",
     "output_type": "error",
     "traceback": [
      "\u001b[1;31m---------------------------------------------------------------------------\u001b[0m",
      "\u001b[1;31mFileNotFoundError\u001b[0m                         Traceback (most recent call last)",
      "\u001b[1;32m<ipython-input-88-b6892172db80>\u001b[0m in \u001b[0;36m<module>\u001b[1;34m\u001b[0m\n\u001b[0;32m     14\u001b[0m \u001b[1;33m\u001b[0m\u001b[0m\n\u001b[0;32m     15\u001b[0m \u001b[1;31m# Save the figure\u001b[0m\u001b[1;33m\u001b[0m\u001b[1;33m\u001b[0m\u001b[1;33m\u001b[0m\u001b[0m\n\u001b[1;32m---> 16\u001b[1;33m \u001b[0mplt\u001b[0m\u001b[1;33m.\u001b[0m\u001b[0msavefig\u001b[0m\u001b[1;33m(\u001b[0m\u001b[1;34m\"Output_Plots/Humidity_vs_Latitude.png\"\u001b[0m\u001b[1;33m)\u001b[0m\u001b[1;33m\u001b[0m\u001b[1;33m\u001b[0m\u001b[0m\n\u001b[0m",
      "\u001b[1;32m~\\Anaconda3\\lib\\site-packages\\matplotlib\\pyplot.py\u001b[0m in \u001b[0;36msavefig\u001b[1;34m(*args, **kwargs)\u001b[0m\n\u001b[0;32m    714\u001b[0m \u001b[1;32mdef\u001b[0m \u001b[0msavefig\u001b[0m\u001b[1;33m(\u001b[0m\u001b[1;33m*\u001b[0m\u001b[0margs\u001b[0m\u001b[1;33m,\u001b[0m \u001b[1;33m**\u001b[0m\u001b[0mkwargs\u001b[0m\u001b[1;33m)\u001b[0m\u001b[1;33m:\u001b[0m\u001b[1;33m\u001b[0m\u001b[1;33m\u001b[0m\u001b[0m\n\u001b[0;32m    715\u001b[0m     \u001b[0mfig\u001b[0m \u001b[1;33m=\u001b[0m \u001b[0mgcf\u001b[0m\u001b[1;33m(\u001b[0m\u001b[1;33m)\u001b[0m\u001b[1;33m\u001b[0m\u001b[1;33m\u001b[0m\u001b[0m\n\u001b[1;32m--> 716\u001b[1;33m     \u001b[0mres\u001b[0m \u001b[1;33m=\u001b[0m \u001b[0mfig\u001b[0m\u001b[1;33m.\u001b[0m\u001b[0msavefig\u001b[0m\u001b[1;33m(\u001b[0m\u001b[1;33m*\u001b[0m\u001b[0margs\u001b[0m\u001b[1;33m,\u001b[0m \u001b[1;33m**\u001b[0m\u001b[0mkwargs\u001b[0m\u001b[1;33m)\u001b[0m\u001b[1;33m\u001b[0m\u001b[1;33m\u001b[0m\u001b[0m\n\u001b[0m\u001b[0;32m    717\u001b[0m     \u001b[0mfig\u001b[0m\u001b[1;33m.\u001b[0m\u001b[0mcanvas\u001b[0m\u001b[1;33m.\u001b[0m\u001b[0mdraw_idle\u001b[0m\u001b[1;33m(\u001b[0m\u001b[1;33m)\u001b[0m   \u001b[1;31m# need this if 'transparent=True' to reset colors\u001b[0m\u001b[1;33m\u001b[0m\u001b[1;33m\u001b[0m\u001b[0m\n\u001b[0;32m    718\u001b[0m     \u001b[1;32mreturn\u001b[0m \u001b[0mres\u001b[0m\u001b[1;33m\u001b[0m\u001b[1;33m\u001b[0m\u001b[0m\n",
      "\u001b[1;32m~\\Anaconda3\\lib\\site-packages\\matplotlib\\figure.py\u001b[0m in \u001b[0;36msavefig\u001b[1;34m(self, fname, transparent, **kwargs)\u001b[0m\n\u001b[0;32m   2178\u001b[0m             \u001b[0mself\u001b[0m\u001b[1;33m.\u001b[0m\u001b[0mpatch\u001b[0m\u001b[1;33m.\u001b[0m\u001b[0mset_visible\u001b[0m\u001b[1;33m(\u001b[0m\u001b[0mframeon\u001b[0m\u001b[1;33m)\u001b[0m\u001b[1;33m\u001b[0m\u001b[1;33m\u001b[0m\u001b[0m\n\u001b[0;32m   2179\u001b[0m \u001b[1;33m\u001b[0m\u001b[0m\n\u001b[1;32m-> 2180\u001b[1;33m         \u001b[0mself\u001b[0m\u001b[1;33m.\u001b[0m\u001b[0mcanvas\u001b[0m\u001b[1;33m.\u001b[0m\u001b[0mprint_figure\u001b[0m\u001b[1;33m(\u001b[0m\u001b[0mfname\u001b[0m\u001b[1;33m,\u001b[0m \u001b[1;33m**\u001b[0m\u001b[0mkwargs\u001b[0m\u001b[1;33m)\u001b[0m\u001b[1;33m\u001b[0m\u001b[1;33m\u001b[0m\u001b[0m\n\u001b[0m\u001b[0;32m   2181\u001b[0m \u001b[1;33m\u001b[0m\u001b[0m\n\u001b[0;32m   2182\u001b[0m         \u001b[1;32mif\u001b[0m \u001b[0mframeon\u001b[0m\u001b[1;33m:\u001b[0m\u001b[1;33m\u001b[0m\u001b[1;33m\u001b[0m\u001b[0m\n",
      "\u001b[1;32m~\\Anaconda3\\lib\\site-packages\\matplotlib\\backend_bases.py\u001b[0m in \u001b[0;36mprint_figure\u001b[1;34m(self, filename, dpi, facecolor, edgecolor, orientation, format, bbox_inches, **kwargs)\u001b[0m\n\u001b[0;32m   2080\u001b[0m                     \u001b[0morientation\u001b[0m\u001b[1;33m=\u001b[0m\u001b[0morientation\u001b[0m\u001b[1;33m,\u001b[0m\u001b[1;33m\u001b[0m\u001b[1;33m\u001b[0m\u001b[0m\n\u001b[0;32m   2081\u001b[0m                     \u001b[0mbbox_inches_restore\u001b[0m\u001b[1;33m=\u001b[0m\u001b[0m_bbox_inches_restore\u001b[0m\u001b[1;33m,\u001b[0m\u001b[1;33m\u001b[0m\u001b[1;33m\u001b[0m\u001b[0m\n\u001b[1;32m-> 2082\u001b[1;33m                     **kwargs)\n\u001b[0m\u001b[0;32m   2083\u001b[0m             \u001b[1;32mfinally\u001b[0m\u001b[1;33m:\u001b[0m\u001b[1;33m\u001b[0m\u001b[1;33m\u001b[0m\u001b[0m\n\u001b[0;32m   2084\u001b[0m                 \u001b[1;32mif\u001b[0m \u001b[0mbbox_inches\u001b[0m \u001b[1;32mand\u001b[0m \u001b[0mrestore_bbox\u001b[0m\u001b[1;33m:\u001b[0m\u001b[1;33m\u001b[0m\u001b[1;33m\u001b[0m\u001b[0m\n",
      "\u001b[1;32m~\\Anaconda3\\lib\\site-packages\\matplotlib\\backends\\backend_agg.py\u001b[0m in \u001b[0;36mprint_png\u001b[1;34m(self, filename_or_obj, metadata, pil_kwargs, *args, **kwargs)\u001b[0m\n\u001b[0;32m    528\u001b[0m             \u001b[0mrenderer\u001b[0m \u001b[1;33m=\u001b[0m \u001b[0mself\u001b[0m\u001b[1;33m.\u001b[0m\u001b[0mget_renderer\u001b[0m\u001b[1;33m(\u001b[0m\u001b[1;33m)\u001b[0m\u001b[1;33m\u001b[0m\u001b[1;33m\u001b[0m\u001b[0m\n\u001b[0;32m    529\u001b[0m             \u001b[1;32mwith\u001b[0m \u001b[0mcbook\u001b[0m\u001b[1;33m.\u001b[0m\u001b[0m_setattr_cm\u001b[0m\u001b[1;33m(\u001b[0m\u001b[0mrenderer\u001b[0m\u001b[1;33m,\u001b[0m \u001b[0mdpi\u001b[0m\u001b[1;33m=\u001b[0m\u001b[0mself\u001b[0m\u001b[1;33m.\u001b[0m\u001b[0mfigure\u001b[0m\u001b[1;33m.\u001b[0m\u001b[0mdpi\u001b[0m\u001b[1;33m)\u001b[0m\u001b[1;33m,\u001b[0m\u001b[0;31m \u001b[0m\u001b[0;31m\\\u001b[0m\u001b[1;33m\u001b[0m\u001b[1;33m\u001b[0m\u001b[0m\n\u001b[1;32m--> 530\u001b[1;33m                     \u001b[0mcbook\u001b[0m\u001b[1;33m.\u001b[0m\u001b[0mopen_file_cm\u001b[0m\u001b[1;33m(\u001b[0m\u001b[0mfilename_or_obj\u001b[0m\u001b[1;33m,\u001b[0m \u001b[1;34m\"wb\"\u001b[0m\u001b[1;33m)\u001b[0m \u001b[1;32mas\u001b[0m \u001b[0mfh\u001b[0m\u001b[1;33m:\u001b[0m\u001b[1;33m\u001b[0m\u001b[1;33m\u001b[0m\u001b[0m\n\u001b[0m\u001b[0;32m    531\u001b[0m                 _png.write_png(renderer._renderer, fh,\n\u001b[0;32m    532\u001b[0m                                self.figure.dpi, metadata=metadata)\n",
      "\u001b[1;32m~\\Anaconda3\\lib\\contextlib.py\u001b[0m in \u001b[0;36m__enter__\u001b[1;34m(self)\u001b[0m\n\u001b[0;32m    110\u001b[0m         \u001b[1;32mdel\u001b[0m \u001b[0mself\u001b[0m\u001b[1;33m.\u001b[0m\u001b[0margs\u001b[0m\u001b[1;33m,\u001b[0m \u001b[0mself\u001b[0m\u001b[1;33m.\u001b[0m\u001b[0mkwds\u001b[0m\u001b[1;33m,\u001b[0m \u001b[0mself\u001b[0m\u001b[1;33m.\u001b[0m\u001b[0mfunc\u001b[0m\u001b[1;33m\u001b[0m\u001b[1;33m\u001b[0m\u001b[0m\n\u001b[0;32m    111\u001b[0m         \u001b[1;32mtry\u001b[0m\u001b[1;33m:\u001b[0m\u001b[1;33m\u001b[0m\u001b[1;33m\u001b[0m\u001b[0m\n\u001b[1;32m--> 112\u001b[1;33m             \u001b[1;32mreturn\u001b[0m \u001b[0mnext\u001b[0m\u001b[1;33m(\u001b[0m\u001b[0mself\u001b[0m\u001b[1;33m.\u001b[0m\u001b[0mgen\u001b[0m\u001b[1;33m)\u001b[0m\u001b[1;33m\u001b[0m\u001b[1;33m\u001b[0m\u001b[0m\n\u001b[0m\u001b[0;32m    113\u001b[0m         \u001b[1;32mexcept\u001b[0m \u001b[0mStopIteration\u001b[0m\u001b[1;33m:\u001b[0m\u001b[1;33m\u001b[0m\u001b[1;33m\u001b[0m\u001b[0m\n\u001b[0;32m    114\u001b[0m             \u001b[1;32mraise\u001b[0m \u001b[0mRuntimeError\u001b[0m\u001b[1;33m(\u001b[0m\u001b[1;34m\"generator didn't yield\"\u001b[0m\u001b[1;33m)\u001b[0m \u001b[1;32mfrom\u001b[0m \u001b[1;32mNone\u001b[0m\u001b[1;33m\u001b[0m\u001b[1;33m\u001b[0m\u001b[0m\n",
      "\u001b[1;32m~\\Anaconda3\\lib\\site-packages\\matplotlib\\cbook\\__init__.py\u001b[0m in \u001b[0;36mopen_file_cm\u001b[1;34m(path_or_file, mode, encoding)\u001b[0m\n\u001b[0;32m    445\u001b[0m \u001b[1;32mdef\u001b[0m \u001b[0mopen_file_cm\u001b[0m\u001b[1;33m(\u001b[0m\u001b[0mpath_or_file\u001b[0m\u001b[1;33m,\u001b[0m \u001b[0mmode\u001b[0m\u001b[1;33m=\u001b[0m\u001b[1;34m\"r\"\u001b[0m\u001b[1;33m,\u001b[0m \u001b[0mencoding\u001b[0m\u001b[1;33m=\u001b[0m\u001b[1;32mNone\u001b[0m\u001b[1;33m)\u001b[0m\u001b[1;33m:\u001b[0m\u001b[1;33m\u001b[0m\u001b[1;33m\u001b[0m\u001b[0m\n\u001b[0;32m    446\u001b[0m     \u001b[1;34mr\"\"\"Pass through file objects and context-manage `.PathLike`\\s.\"\"\"\u001b[0m\u001b[1;33m\u001b[0m\u001b[1;33m\u001b[0m\u001b[0m\n\u001b[1;32m--> 447\u001b[1;33m     \u001b[0mfh\u001b[0m\u001b[1;33m,\u001b[0m \u001b[0mopened\u001b[0m \u001b[1;33m=\u001b[0m \u001b[0mto_filehandle\u001b[0m\u001b[1;33m(\u001b[0m\u001b[0mpath_or_file\u001b[0m\u001b[1;33m,\u001b[0m \u001b[0mmode\u001b[0m\u001b[1;33m,\u001b[0m \u001b[1;32mTrue\u001b[0m\u001b[1;33m,\u001b[0m \u001b[0mencoding\u001b[0m\u001b[1;33m)\u001b[0m\u001b[1;33m\u001b[0m\u001b[1;33m\u001b[0m\u001b[0m\n\u001b[0m\u001b[0;32m    448\u001b[0m     \u001b[1;32mif\u001b[0m \u001b[0mopened\u001b[0m\u001b[1;33m:\u001b[0m\u001b[1;33m\u001b[0m\u001b[1;33m\u001b[0m\u001b[0m\n\u001b[0;32m    449\u001b[0m         \u001b[1;32mwith\u001b[0m \u001b[0mfh\u001b[0m\u001b[1;33m:\u001b[0m\u001b[1;33m\u001b[0m\u001b[1;33m\u001b[0m\u001b[0m\n",
      "\u001b[1;32m~\\Anaconda3\\lib\\site-packages\\matplotlib\\cbook\\__init__.py\u001b[0m in \u001b[0;36mto_filehandle\u001b[1;34m(fname, flag, return_opened, encoding)\u001b[0m\n\u001b[0;32m    430\u001b[0m             \u001b[0mfh\u001b[0m \u001b[1;33m=\u001b[0m \u001b[0mbz2\u001b[0m\u001b[1;33m.\u001b[0m\u001b[0mBZ2File\u001b[0m\u001b[1;33m(\u001b[0m\u001b[0mfname\u001b[0m\u001b[1;33m,\u001b[0m \u001b[0mflag\u001b[0m\u001b[1;33m)\u001b[0m\u001b[1;33m\u001b[0m\u001b[1;33m\u001b[0m\u001b[0m\n\u001b[0;32m    431\u001b[0m         \u001b[1;32melse\u001b[0m\u001b[1;33m:\u001b[0m\u001b[1;33m\u001b[0m\u001b[1;33m\u001b[0m\u001b[0m\n\u001b[1;32m--> 432\u001b[1;33m             \u001b[0mfh\u001b[0m \u001b[1;33m=\u001b[0m \u001b[0mopen\u001b[0m\u001b[1;33m(\u001b[0m\u001b[0mfname\u001b[0m\u001b[1;33m,\u001b[0m \u001b[0mflag\u001b[0m\u001b[1;33m,\u001b[0m \u001b[0mencoding\u001b[0m\u001b[1;33m=\u001b[0m\u001b[0mencoding\u001b[0m\u001b[1;33m)\u001b[0m\u001b[1;33m\u001b[0m\u001b[1;33m\u001b[0m\u001b[0m\n\u001b[0m\u001b[0;32m    433\u001b[0m         \u001b[0mopened\u001b[0m \u001b[1;33m=\u001b[0m \u001b[1;32mTrue\u001b[0m\u001b[1;33m\u001b[0m\u001b[1;33m\u001b[0m\u001b[0m\n\u001b[0;32m    434\u001b[0m     \u001b[1;32melif\u001b[0m \u001b[0mhasattr\u001b[0m\u001b[1;33m(\u001b[0m\u001b[0mfname\u001b[0m\u001b[1;33m,\u001b[0m \u001b[1;34m'seek'\u001b[0m\u001b[1;33m)\u001b[0m\u001b[1;33m:\u001b[0m\u001b[1;33m\u001b[0m\u001b[1;33m\u001b[0m\u001b[0m\n",
      "\u001b[1;31mFileNotFoundError\u001b[0m: [Errno 2] No such file or directory: 'Output_Plots/Humidity_vs_Latitude.png'"
     ]
    },
    {
     "data": {
      "text/plain": [
       "<Figure size 432x288 with 0 Axes>"
      ]
     },
     "metadata": {},
     "output_type": "display_data"
    }
   ],
   "source": [
    "# Add the linear regression equation and line to plot\n",
    "x_values = weather_data['Cloudiness']\n",
    "y_values = weather_data['Humidity']\n",
    "(slope, intercept, rvalue, pvalue, stderr) = linregress(x_values, y_values)\n",
    "regress_values = x_values * slope + intercept\n",
    "line_eq = \"y = \" + str(round(slope,2)) + \"x + \" + str(round(intercept,2))\n",
    "plt.scatter(x_values,y_values)\n",
    "plt.plot(x_values,regress_values,\"r-\")\n",
    "plt.annotate(line_eq,(6,10),fontsize=15,color=\"red\")\n",
    "plt.xlabel('Cloudiness')\n",
    "plt.ylabel('Humidity')\n",
    "plt.title('Cloudiness as a Predictor of Humidity')\n",
    "plt.show()\n",
    "\n",
    "# Save the figure\n",
    "plt.savefig(\"Output_Plots/Humidity_vs_Latitude.png\")"
   ]
  },
  {
   "cell_type": "code",
   "execution_count": null,
   "metadata": {},
   "outputs": [],
   "source": [
    "#Your next objective is to run linear regression on each relationship, \n",
    "#only this time separating them into Northern Hemisphere (greater than or equal to 0 degrees latitude) \n",
    "#and Southern Hemisphere (less than 0 degrees latitude):\n",
    "#JOhn's thoughts. Let's get better and run a multiple regression."
   ]
  },
  {
   "cell_type": "code",
   "execution_count": 49,
   "metadata": {},
   "outputs": [
    {
     "data": {
      "text/html": [
       "<div>\n",
       "<style scoped>\n",
       "    .dataframe tbody tr th:only-of-type {\n",
       "        vertical-align: middle;\n",
       "    }\n",
       "\n",
       "    .dataframe tbody tr th {\n",
       "        vertical-align: top;\n",
       "    }\n",
       "\n",
       "    .dataframe thead th {\n",
       "        text-align: right;\n",
       "    }\n",
       "</style>\n",
       "<table border=\"1\" class=\"dataframe\">\n",
       "  <thead>\n",
       "    <tr style=\"text-align: right;\">\n",
       "      <th></th>\n",
       "      <th>City</th>\n",
       "      <th>Cloudiness</th>\n",
       "      <th>Country</th>\n",
       "      <th>Date</th>\n",
       "      <th>Humidity</th>\n",
       "      <th>Lat</th>\n",
       "      <th>Lng</th>\n",
       "      <th>Max Temp</th>\n",
       "      <th>Wind Speed</th>\n",
       "    </tr>\n",
       "  </thead>\n",
       "  <tbody>\n",
       "    <tr>\n",
       "      <th>1</th>\n",
       "      <td>Vaini</td>\n",
       "      <td>32</td>\n",
       "      <td>IN</td>\n",
       "      <td>1569181240</td>\n",
       "      <td>93</td>\n",
       "      <td>15.34</td>\n",
       "      <td>74.49</td>\n",
       "      <td>296.63</td>\n",
       "      <td>1.12</td>\n",
       "    </tr>\n",
       "    <tr>\n",
       "      <th>2</th>\n",
       "      <td>Kahului</td>\n",
       "      <td>1</td>\n",
       "      <td>US</td>\n",
       "      <td>1569181241</td>\n",
       "      <td>66</td>\n",
       "      <td>20.89</td>\n",
       "      <td>-156.47</td>\n",
       "      <td>303.15</td>\n",
       "      <td>3.60</td>\n",
       "    </tr>\n",
       "    <tr>\n",
       "      <th>3</th>\n",
       "      <td>Saskylakh</td>\n",
       "      <td>84</td>\n",
       "      <td>RU</td>\n",
       "      <td>1569181243</td>\n",
       "      <td>92</td>\n",
       "      <td>71.97</td>\n",
       "      <td>114.09</td>\n",
       "      <td>274.23</td>\n",
       "      <td>4.92</td>\n",
       "    </tr>\n",
       "    <tr>\n",
       "      <th>4</th>\n",
       "      <td>Morehead</td>\n",
       "      <td>1</td>\n",
       "      <td>US</td>\n",
       "      <td>1569181244</td>\n",
       "      <td>31</td>\n",
       "      <td>38.18</td>\n",
       "      <td>-83.43</td>\n",
       "      <td>305.15</td>\n",
       "      <td>7.70</td>\n",
       "    </tr>\n",
       "    <tr>\n",
       "      <th>5</th>\n",
       "      <td>Cetraro</td>\n",
       "      <td>100</td>\n",
       "      <td>IT</td>\n",
       "      <td>1569181245</td>\n",
       "      <td>99</td>\n",
       "      <td>39.52</td>\n",
       "      <td>15.94</td>\n",
       "      <td>295.37</td>\n",
       "      <td>4.28</td>\n",
       "    </tr>\n",
       "  </tbody>\n",
       "</table>\n",
       "</div>"
      ],
      "text/plain": [
       "        City  Cloudiness Country        Date  Humidity    Lat     Lng  \\\n",
       "1      Vaini          32      IN  1569181240        93  15.34   74.49   \n",
       "2    Kahului           1      US  1569181241        66  20.89 -156.47   \n",
       "3  Saskylakh          84      RU  1569181243        92  71.97  114.09   \n",
       "4   Morehead           1      US  1569181244        31  38.18  -83.43   \n",
       "5    Cetraro         100      IT  1569181245        99  39.52   15.94   \n",
       "\n",
       "   Max Temp  Wind Speed  \n",
       "1    296.63        1.12  \n",
       "2    303.15        3.60  \n",
       "3    274.23        4.92  \n",
       "4    305.15        7.70  \n",
       "5    295.37        4.28  "
      ]
     },
     "execution_count": 49,
     "metadata": {},
     "output_type": "execute_result"
    }
   ],
   "source": [
    "# Create Northern and Southern Hemisphere DataFrames\n",
    "north_data =  weather_data[weather_data.Lat >= 0]\n",
    "north_data.head()\n"
   ]
  },
  {
   "cell_type": "code",
   "execution_count": 48,
   "metadata": {},
   "outputs": [
    {
     "data": {
      "text/html": [
       "<div>\n",
       "<style scoped>\n",
       "    .dataframe tbody tr th:only-of-type {\n",
       "        vertical-align: middle;\n",
       "    }\n",
       "\n",
       "    .dataframe tbody tr th {\n",
       "        vertical-align: top;\n",
       "    }\n",
       "\n",
       "    .dataframe thead th {\n",
       "        text-align: right;\n",
       "    }\n",
       "</style>\n",
       "<table border=\"1\" class=\"dataframe\">\n",
       "  <thead>\n",
       "    <tr style=\"text-align: right;\">\n",
       "      <th></th>\n",
       "      <th>City</th>\n",
       "      <th>Cloudiness</th>\n",
       "      <th>Country</th>\n",
       "      <th>Date</th>\n",
       "      <th>Humidity</th>\n",
       "      <th>Lat</th>\n",
       "      <th>Lng</th>\n",
       "      <th>Max Temp</th>\n",
       "      <th>Wind Speed</th>\n",
       "    </tr>\n",
       "  </thead>\n",
       "  <tbody>\n",
       "    <tr>\n",
       "      <th>0</th>\n",
       "      <td>Busselton</td>\n",
       "      <td>100</td>\n",
       "      <td>AU</td>\n",
       "      <td>1569181239</td>\n",
       "      <td>68</td>\n",
       "      <td>-33.64</td>\n",
       "      <td>115.35</td>\n",
       "      <td>282.04</td>\n",
       "      <td>7.63</td>\n",
       "    </tr>\n",
       "    <tr>\n",
       "      <th>6</th>\n",
       "      <td>Arraial do Cabo</td>\n",
       "      <td>75</td>\n",
       "      <td>BR</td>\n",
       "      <td>1569181246</td>\n",
       "      <td>88</td>\n",
       "      <td>-22.97</td>\n",
       "      <td>-42.02</td>\n",
       "      <td>295.15</td>\n",
       "      <td>3.60</td>\n",
       "    </tr>\n",
       "    <tr>\n",
       "      <th>7</th>\n",
       "      <td>Jamestown</td>\n",
       "      <td>79</td>\n",
       "      <td>AU</td>\n",
       "      <td>1569181247</td>\n",
       "      <td>93</td>\n",
       "      <td>-33.21</td>\n",
       "      <td>138.60</td>\n",
       "      <td>278.83</td>\n",
       "      <td>0.49</td>\n",
       "    </tr>\n",
       "    <tr>\n",
       "      <th>8</th>\n",
       "      <td>Ancud</td>\n",
       "      <td>20</td>\n",
       "      <td>CL</td>\n",
       "      <td>1569181249</td>\n",
       "      <td>62</td>\n",
       "      <td>-41.87</td>\n",
       "      <td>-73.83</td>\n",
       "      <td>285.15</td>\n",
       "      <td>2.60</td>\n",
       "    </tr>\n",
       "    <tr>\n",
       "      <th>9</th>\n",
       "      <td>Rikitea</td>\n",
       "      <td>35</td>\n",
       "      <td>PF</td>\n",
       "      <td>1569181250</td>\n",
       "      <td>83</td>\n",
       "      <td>-23.12</td>\n",
       "      <td>-134.97</td>\n",
       "      <td>294.23</td>\n",
       "      <td>8.66</td>\n",
       "    </tr>\n",
       "  </tbody>\n",
       "</table>\n",
       "</div>"
      ],
      "text/plain": [
       "              City  Cloudiness Country        Date  Humidity    Lat     Lng  \\\n",
       "0        Busselton         100      AU  1569181239        68 -33.64  115.35   \n",
       "6  Arraial do Cabo          75      BR  1569181246        88 -22.97  -42.02   \n",
       "7        Jamestown          79      AU  1569181247        93 -33.21  138.60   \n",
       "8            Ancud          20      CL  1569181249        62 -41.87  -73.83   \n",
       "9          Rikitea          35      PF  1569181250        83 -23.12 -134.97   \n",
       "\n",
       "   Max Temp  Wind Speed  \n",
       "0    282.04        7.63  \n",
       "6    295.15        3.60  \n",
       "7    278.83        0.49  \n",
       "8    285.15        2.60  \n",
       "9    294.23        8.66  "
      ]
     },
     "execution_count": 48,
     "metadata": {},
     "output_type": "execute_result"
    }
   ],
   "source": [
    "south_data = weather_data[weather_data.Lat < 0]\n",
    "south_data.head()"
   ]
  },
  {
   "cell_type": "markdown",
   "metadata": {},
   "source": [
    "####  Northern Hemisphere - Max Temp vs. Latitude Linear Regression"
   ]
  },
  {
   "cell_type": "code",
   "execution_count": 97,
   "metadata": {},
   "outputs": [
    {
     "name": "stdout",
     "output_type": "stream",
     "text": [
      "1.735452613517393e-34\n",
      "-0.7512136899372351\n"
     ]
    },
    {
     "data": {
      "image/png": "[encoded data removed]",
      "text/plain": [
       "<Figure size 432x288 with 1 Axes>"
      ]
     },
     "metadata": {
      "needs_background": "light"
     },
     "output_type": "display_data"
    }
   ],
   "source": [
    "# Add the linear regression equation and line to plot\n",
    "x_values = north_data['Lat']\n",
    "y_values = north_data['Max Temp']\n",
    "(slope, intercept, rvalue, pvalue, stderr) = linregress(x_values, y_values)\n",
    "regress_values = x_values * slope + intercept\n",
    "line_eq = \"y = \" + str(round(slope,2)) + \"x + \" + str(round(intercept,2))\n",
    "plt.scatter(x_values,y_values)\n",
    "plt.plot(x_values,regress_values,\"r-\")\n",
    "plt.annotate(line_eq,(30,300),fontsize=15,color=\"red\")\n",
    "plt.xlabel('Latitude')\n",
    "plt.ylabel('Max Temp')\n",
    "plt.title('Northern Hemisphere: Latitude as a Predictor of Max Temperature')\n",
    "#plt.show()\n",
    "print(pvalue)\n",
    "print(rvalue)\n",
    "plt.savefig(\"lattempreg_nh.png\")"
   ]
  },
  {
   "cell_type": "markdown",
   "metadata": {},
   "source": [
    "####  Southern Hemisphere - Max Temp vs. Latitude Linear Regression"
   ]
  },
  {
   "cell_type": "code",
   "execution_count": 98,
   "metadata": {},
   "outputs": [
    {
     "name": "stdout",
     "output_type": "stream",
     "text": [
      "4.7019119851744183e-17\n",
      "0.7726202376949118\n"
     ]
    },
    {
     "data": {
      "image/png": "[encoded data removed]",
      "text/plain": [
       "<Figure size 432x288 with 1 Axes>"
      ]
     },
     "metadata": {
      "needs_background": "light"
     },
     "output_type": "display_data"
    }
   ],
   "source": [
    "# Add the linear regression equation and line to plot\n",
    "x_values = south_data['Lat']\n",
    "y_values = south_data['Max Temp']\n",
    "(slope, intercept, rvalue, pvalue, stderr) = linregress(x_values, y_values)\n",
    "regress_values = x_values * slope + intercept\n",
    "line_eq = \"y = \" + str(round(slope,2)) + \"x + \" + str(round(intercept,2))\n",
    "plt.scatter(x_values,y_values)\n",
    "plt.plot(x_values,regress_values,\"r-\")\n",
    "plt.annotate(line_eq,(-30,300),fontsize=15,color=\"red\")\n",
    "plt.xlabel('Latitude')\n",
    "plt.ylabel('Max Temp')\n",
    "plt.title('Southern Hemisphere: Latitude as a Predictor of Max Temperature')\n",
    "#plt.show()\n",
    "\n",
    "print(pvalue)\n",
    "print(rvalue)\n",
    "plt.savefig(\"lattempreg_sh.png\")"
   ]
  },
  {
   "cell_type": "markdown",
   "metadata": {},
   "source": [
    "####  Northern Hemisphere - Humidity (%) vs. Latitude Linear Regression"
   ]
  },
  {
   "cell_type": "code",
   "execution_count": 99,
   "metadata": {},
   "outputs": [
    {
     "name": "stdout",
     "output_type": "stream",
     "text": [
      "0.01938922654804638\n",
      "0.17270975812169806\n"
     ]
    },
    {
     "data": {
      "image/png": "[encoded data removed]",
      "text/plain": [
       "<Figure size 432x288 with 1 Axes>"
      ]
     },
     "metadata": {
      "needs_background": "light"
     },
     "output_type": "display_data"
    }
   ],
   "source": [
    "# Add the linear regression equation and line to plot\n",
    "x_values = north_data['Lat']\n",
    "y_values = north_data['Humidity']\n",
    "(slope, intercept, rvalue, pvalue, stderr) = linregress(x_values, y_values)\n",
    "regress_values = x_values * slope + intercept\n",
    "line_eq = \"y = \" + str(round(slope,2)) + \"x + \" + str(round(intercept,2))\n",
    "plt.scatter(x_values,y_values)\n",
    "plt.plot(x_values,regress_values,\"r-\")\n",
    "plt.annotate(line_eq,(6,10),fontsize=15,color=\"red\")\n",
    "plt.xlabel('Latitude')\n",
    "plt.ylabel('Humidity %')\n",
    "plt.title('Northern Hemisphere: Latitude as a Predictor of Humidity')\n",
    "#plt.show()\n",
    "print(pvalue)\n",
    "print(rvalue)\n",
    "plt.savefig(\"lathumpreg_nh.png\")"
   ]
  },
  {
   "cell_type": "markdown",
   "metadata": {},
   "source": [
    "####  Southern Hemisphere - Humidity (%) vs. Latitude Linear Regression"
   ]
  },
  {
   "cell_type": "code",
   "execution_count": 100,
   "metadata": {},
   "outputs": [
    {
     "name": "stdout",
     "output_type": "stream",
     "text": [
      "0.23315071400183285\n",
      "0.13481339880632212\n"
     ]
    },
    {
     "data": {
      "image/png": "[encoded data removed]",
      "text/plain": [
       "<Figure size 432x288 with 1 Axes>"
      ]
     },
     "metadata": {
      "needs_background": "light"
     },
     "output_type": "display_data"
    }
   ],
   "source": [
    "# Add the linear regression equation and line to plot\n",
    "x_values = south_data['Lat']\n",
    "y_values = south_data['Humidity']\n",
    "(slope, intercept, rvalue, pvalue, stderr) = linregress(x_values, y_values)\n",
    "regress_values = x_values * slope + intercept\n",
    "line_eq = \"y = \" + str(round(slope,2)) + \"x + \" + str(round(intercept,2))\n",
    "plt.scatter(x_values,y_values)\n",
    "plt.plot(x_values,regress_values,\"r-\")\n",
    "plt.annotate(line_eq,(-20,10),fontsize=15,color=\"red\")\n",
    "plt.xlabel('Latitude')\n",
    "plt.ylabel('Humidity')\n",
    "plt.title('Southern Hemisphere: Latitude as a Predictor of Humidity')\n",
    "#plt.show()\n",
    "\n",
    "print(pvalue)\n",
    "print(rvalue)\n",
    "plt.savefig(\"lattempreg_sh.png\")"
   ]
  },
  {
   "cell_type": "markdown",
   "metadata": {},
   "source": [
    "####  Northern Hemisphere - Cloudiness (%) vs. Latitude Linear Regression"
   ]
  },
  {
   "cell_type": "code",
   "execution_count": 101,
   "metadata": {},
   "outputs": [
    {
     "data": {
      "image/png": "[encoded data removed]",
      "text/plain": [
       "<Figure size 432x288 with 1 Axes>"
      ]
     },
     "metadata": {
      "needs_background": "light"
     },
     "output_type": "display_data"
    },
    {
     "name": "stdout",
     "output_type": "stream",
     "text": [
      "0.25695898966420405\n",
      "0.0842268594097328\n"
     ]
    },
    {
     "data": {
      "text/plain": [
       "<Figure size 432x288 with 0 Axes>"
      ]
     },
     "metadata": {},
     "output_type": "display_data"
    }
   ],
   "source": [
    "# Add the linear regression equation and line to plot\n",
    "x_values = north_data['Lat']\n",
    "y_values = north_data['Cloudiness']\n",
    "(slope, intercept, rvalue, pvalue, stderr) = linregress(x_values, y_values)\n",
    "regress_values = x_values * slope + intercept\n",
    "line_eq = \"y = \" + str(round(slope,2)) + \"x + \" + str(round(intercept,2))\n",
    "plt.scatter(x_values,y_values)\n",
    "plt.plot(x_values,regress_values,\"r-\")\n",
    "plt.annotate(line_eq,(6,10),fontsize=15,color=\"red\")\n",
    "plt.xlabel('Latitude')\n",
    "plt.ylabel('Cloudiness (%)')\n",
    "plt.title('Northern Hemisphere: Latitude as a Predictor of Percent Cloudiness')\n",
    "plt.show()\n",
    "print(pvalue)\n",
    "print(rvalue)\n",
    "plt.savefig(\"latcloudreg_nh.png\")"
   ]
  },
  {
   "cell_type": "markdown",
   "metadata": {},
   "source": [
    "####  Southern Hemisphere - Cloudiness (%) vs. Latitude Linear Regression"
   ]
  },
  {
   "cell_type": "code",
   "execution_count": 102,
   "metadata": {},
   "outputs": [
    {
     "name": "stdout",
     "output_type": "stream",
     "text": [
      "0.644407746661533\n",
      "0.052391383190211464\n"
     ]
    },
    {
     "data": {
      "image/png": "[encoded data removed]",
      "text/plain": [
       "<Figure size 432x288 with 1 Axes>"
      ]
     },
     "metadata": {
      "needs_background": "light"
     },
     "output_type": "display_data"
    }
   ],
   "source": [
    "# Add the linear regression equation and line to plot\n",
    "x_values = south_data['Lat']\n",
    "y_values = south_data['Cloudiness']\n",
    "(slope, intercept, rvalue, pvalue, stderr) = linregress(x_values, y_values)\n",
    "regress_values = x_values * slope + intercept\n",
    "line_eq = \"y = \" + str(round(slope,2)) + \"x + \" + str(round(intercept,2))\n",
    "plt.scatter(x_values,y_values)\n",
    "plt.plot(x_values,regress_values,\"r-\")\n",
    "plt.annotate(line_eq,(-20,10),fontsize=15,color=\"red\")\n",
    "plt.xlabel('Latitude')\n",
    "plt.ylabel('Cloudiness')\n",
    "plt.title('Southern Hemisphere: Latitude as a Predictor of Percent Cloudiness')\n",
    "#jplt.show()\n",
    "print(pvalue)\n",
    "print(rvalue)\n",
    "plt.savefig(\"latcloudreg_sh.png\")"
   ]
  },
  {
   "cell_type": "markdown",
   "metadata": {},
   "source": [
    "####  Northern Hemisphere - Wind Speed (mph) vs. Latitude Linear Regression"
   ]
  },
  {
   "cell_type": "code",
   "execution_count": 103,
   "metadata": {},
   "outputs": [
    {
     "name": "stdout",
     "output_type": "stream",
     "text": [
      "0.001406550032013888\n",
      "0.23436521037450453\n"
     ]
    },
    {
     "data": {
      "image/png": "[encoded data removed]",
      "text/plain": [
       "<Figure size 432x288 with 1 Axes>"
      ]
     },
     "metadata": {
      "needs_background": "light"
     },
     "output_type": "display_data"
    }
   ],
   "source": [
    "# Add the linear regression equation and line to plot\n",
    "x_values = north_data['Lat']\n",
    "y_values = north_data['Wind Speed']\n",
    "(slope, intercept, rvalue, pvalue, stderr) = linregress(x_values, y_values)\n",
    "regress_values = x_values * slope + intercept\n",
    "line_eq = \"y = \" + str(round(slope,2)) + \"x + \" + str(round(intercept,2))\n",
    "plt.scatter(x_values,y_values)\n",
    "plt.plot(x_values,regress_values,\"r-\")\n",
    "plt.annotate(line_eq,(6,10),fontsize=15,color=\"red\")\n",
    "plt.xlabel('Latitude')\n",
    "plt.ylabel('Wind Speed')\n",
    "plt.title('Northern Hemisphere: Latitude as a Predictor Wind Speed')\n",
    "#plt.show()\n",
    "print(pvalue)\n",
    "print(rvalue)\n",
    "plt.savefig(\"latwsreg_nh.png\")"
   ]
  },
  {
   "cell_type": "markdown",
   "metadata": {},
   "source": [
    "####  Southern Hemisphere - Wind Speed (mph) vs. Latitude Linear Regression"
   ]
  },
  {
   "cell_type": "code",
   "execution_count": null,
   "metadata": {},
   "outputs": [],
   "source": [
    "# Save a CSV of all retrieved data and a PNG image for each scatter plot. nuisance ass busy work shit"
   ]
  },
  {
   "cell_type": "code",
   "execution_count": 104,
   "metadata": {},
   "outputs": [
    {
     "name": "stdout",
     "output_type": "stream",
     "text": [
      "0.5242494909999926\n",
      "-0.07224122700037731\n"
     ]
    },
    {
     "data": {
      "image/png": "[encoded data removed]",
      "text/plain": [
       "<Figure size 432x288 with 1 Axes>"
      ]
     },
     "metadata": {
      "needs_background": "light"
     },
     "output_type": "display_data"
    }
   ],
   "source": [
    "# Add the linear regression equation and line to plot\n",
    "x_values = south_data['Lat']\n",
    "y_values = south_data['Wind Speed']\n",
    "(slope, intercept, rvalue, pvalue, stderr) = linregress(x_values, y_values)\n",
    "regress_values = x_values * slope + intercept\n",
    "line_eq = \"y = \" + str(round(slope,2)) + \"x + \" + str(round(intercept,2))\n",
    "plt.scatter(x_values,y_values)\n",
    "plt.plot(x_values,regress_values,\"r-\")\n",
    "plt.annotate(line_eq,(-35,10),fontsize=15,color=\"red\")\n",
    "plt.xlabel('Lat')\n",
    "plt.ylabel('Wind Speed (mph)')\n",
    "plt.title('Southern Hemisphere: Latitude as a Predictor of Wind Speed (mph)')\n",
    "#plt.show()\n",
    "print(pvalue)\n",
    "print(rvalue)\n",
    "plt.savefig(\"latwsreg_sh.png\")"
   ]
  }
 ],
 "metadata": {
  "anaconda-cloud": {},
  "kernel_info": {
   "name": "python3"
  },
  "kernelspec": {
   "display_name": "Python 3",
   "language": "python",
   "name": "python3"
  },
  "language_info": {
   "codemirror_mode": {
    "name": "ipython",
    "version": 3
   },
   "file_extension": ".py",
   "mimetype": "text/x-python",
   "name": "python",
   "nbconvert_exporter": "python",
   "pygments_lexer": "ipython3",
   "version": "3.7.3"
  },
  "latex_envs": {
   "LaTeX_envs_menu_present": true,
   "autoclose": false,
   "autocomplete": true,
   "bibliofile": "biblio.bib",
   "cite_by": "apalike",
   "current_citInitial": 1,
   "eqLabelWithNumbers": true,
   "eqNumInitial": 1,
   "hotkeys": {
    "equation": "Ctrl-E",
    "itemize": "Ctrl-I"
   },
   "labels_anchors": false,
   "latex_user_defs": false,
   "report_style_numbering": false,
   "user_envs_cfg": false
  },
  "nteract": {
   "version": "0.12.3"
  }
 },
 "nbformat": 4,
 "nbformat_minor": 2
}
